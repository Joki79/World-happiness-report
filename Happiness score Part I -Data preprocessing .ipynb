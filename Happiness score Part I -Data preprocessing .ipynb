{
 "cells": [
  {
   "cell_type": "markdown",
   "id": "3eadc311",
   "metadata": {},
   "source": [
    "# Data preprocessing\n",
    "\n",
    "I will work with 5 dataframes (2015-2019). \n",
    "\n",
    "In order to be able to perform comparative analysis between different years I need to preprocess my data first. \n",
    "\n",
    "I will be checkign for the null values and making sure that I have same columns across dataframes. \n",
    "\n",
    "For the purpose of comparative analyis I will keep only those  countries that are in common for all 5 dataframes. I assume that there will not be many of those that are different as I do not want to drop too many data.I will adjust my dataframes and saved them under new names. In these new dataframes I will also add the region.\n"
   ]
  },
  {
   "cell_type": "code",
   "execution_count": 1,
   "id": "d74aa5c0",
   "metadata": {},
   "outputs": [],
   "source": [
    "#importing libraries for data preprocessing\n",
    "import pandas as pd"
   ]
  },
  {
   "cell_type": "code",
   "execution_count": 2,
   "id": "624172a2",
   "metadata": {},
   "outputs": [],
   "source": [
    "#loading datasets\n",
    "\n",
    "df1=pd.read_csv(\"/Users/Jordanka/Documents/PD/My portfolios/Polish those/Happiness/2015.csv\")\n",
    "df2=pd.read_csv(\"/Users/Jordanka/Documents/PD/My portfolios/Polish those/Happiness/2016.csv\")\n",
    "df3=pd.read_csv(\"/Users/Jordanka/Documents/PD/My portfolios/Polish those/Happiness/2017.csv\")\n",
    "df4=pd.read_csv(\"/Users/Jordanka/Documents/PD/My portfolios/Polish those/Happiness/2018.csv\")\n",
    "df5=pd.read_csv(\"/Users/Jordanka/Documents/PD/My portfolios/Polish those/Happiness/2019.csv\")"
   ]
  },
  {
   "cell_type": "code",
   "execution_count": 3,
   "id": "915d53fe",
   "metadata": {},
   "outputs": [
    {
     "name": "stdout",
     "output_type": "stream",
     "text": [
      "Index(['Country', 'Region', 'Happiness Rank', 'Happiness Score',\n",
      "       'Standard Error', 'Economy (GDP per Capita)', 'Family',\n",
      "       'Health (Life Expectancy)', 'Freedom', 'Trust (Government Corruption)',\n",
      "       'Generosity', 'Dystopia Residual'],\n",
      "      dtype='object') \n",
      " Index(['Country', 'Region', 'Happiness Rank', 'Happiness Score',\n",
      "       'Lower Confidence Interval', 'Upper Confidence Interval',\n",
      "       'Economy (GDP per Capita)', 'Family', 'Health (Life Expectancy)',\n",
      "       'Freedom', 'Trust (Government Corruption)', 'Generosity',\n",
      "       'Dystopia Residual'],\n",
      "      dtype='object') \n",
      " Index(['Country', 'Happiness.Rank', 'Happiness.Score', 'Whisker.high',\n",
      "       'Whisker.low', 'Economy..GDP.per.Capita.', 'Family',\n",
      "       'Health..Life.Expectancy.', 'Freedom', 'Generosity',\n",
      "       'Trust..Government.Corruption.', 'Dystopia.Residual'],\n",
      "      dtype='object') \n",
      " Index(['Overall rank', 'Country or region', 'Score', 'GDP per capita',\n",
      "       'Social support', 'Healthy life expectancy',\n",
      "       'Freedom to make life choices', 'Generosity',\n",
      "       'Perceptions of corruption'],\n",
      "      dtype='object') \n",
      " Index(['Overall rank', 'Country or region', 'Score', 'GDP per capita',\n",
      "       'Social support', 'Healthy life expectancy',\n",
      "       'Freedom to make life choices', 'Generosity',\n",
      "       'Perceptions of corruption'],\n",
      "      dtype='object')\n"
     ]
    }
   ],
   "source": [
    "#chechking for columns\n",
    "print(df1.columns,'\\n',df2.columns,'\\n',df3.columns,'\\n',df4.columns,'\\n',df5.columns)"
   ]
  },
  {
   "cell_type": "code",
   "execution_count": 4,
   "id": "ce265f41",
   "metadata": {},
   "outputs": [
    {
     "data": {
      "text/html": [
       "<div>\n",
       "<style scoped>\n",
       "    .dataframe tbody tr th:only-of-type {\n",
       "        vertical-align: middle;\n",
       "    }\n",
       "\n",
       "    .dataframe tbody tr th {\n",
       "        vertical-align: top;\n",
       "    }\n",
       "\n",
       "    .dataframe thead th {\n",
       "        text-align: right;\n",
       "    }\n",
       "</style>\n",
       "<table border=\"1\" class=\"dataframe\">\n",
       "  <thead>\n",
       "    <tr style=\"text-align: right;\">\n",
       "      <th></th>\n",
       "      <th>Country</th>\n",
       "      <th>Region</th>\n",
       "      <th>Happiness Rank</th>\n",
       "      <th>Happiness Score</th>\n",
       "      <th>Standard Error</th>\n",
       "      <th>Economy (GDP per Capita)</th>\n",
       "      <th>Family</th>\n",
       "      <th>Health (Life Expectancy)</th>\n",
       "      <th>Freedom</th>\n",
       "      <th>Trust (Government Corruption)</th>\n",
       "      <th>Generosity</th>\n",
       "      <th>Dystopia Residual</th>\n",
       "    </tr>\n",
       "  </thead>\n",
       "  <tbody>\n",
       "    <tr>\n",
       "      <th>0</th>\n",
       "      <td>Switzerland</td>\n",
       "      <td>Western Europe</td>\n",
       "      <td>1</td>\n",
       "      <td>7.587</td>\n",
       "      <td>0.03411</td>\n",
       "      <td>1.39651</td>\n",
       "      <td>1.34951</td>\n",
       "      <td>0.94143</td>\n",
       "      <td>0.66557</td>\n",
       "      <td>0.41978</td>\n",
       "      <td>0.29678</td>\n",
       "      <td>2.51738</td>\n",
       "    </tr>\n",
       "    <tr>\n",
       "      <th>1</th>\n",
       "      <td>Iceland</td>\n",
       "      <td>Western Europe</td>\n",
       "      <td>2</td>\n",
       "      <td>7.561</td>\n",
       "      <td>0.04884</td>\n",
       "      <td>1.30232</td>\n",
       "      <td>1.40223</td>\n",
       "      <td>0.94784</td>\n",
       "      <td>0.62877</td>\n",
       "      <td>0.14145</td>\n",
       "      <td>0.43630</td>\n",
       "      <td>2.70201</td>\n",
       "    </tr>\n",
       "    <tr>\n",
       "      <th>2</th>\n",
       "      <td>Denmark</td>\n",
       "      <td>Western Europe</td>\n",
       "      <td>3</td>\n",
       "      <td>7.527</td>\n",
       "      <td>0.03328</td>\n",
       "      <td>1.32548</td>\n",
       "      <td>1.36058</td>\n",
       "      <td>0.87464</td>\n",
       "      <td>0.64938</td>\n",
       "      <td>0.48357</td>\n",
       "      <td>0.34139</td>\n",
       "      <td>2.49204</td>\n",
       "    </tr>\n",
       "    <tr>\n",
       "      <th>3</th>\n",
       "      <td>Norway</td>\n",
       "      <td>Western Europe</td>\n",
       "      <td>4</td>\n",
       "      <td>7.522</td>\n",
       "      <td>0.03880</td>\n",
       "      <td>1.45900</td>\n",
       "      <td>1.33095</td>\n",
       "      <td>0.88521</td>\n",
       "      <td>0.66973</td>\n",
       "      <td>0.36503</td>\n",
       "      <td>0.34699</td>\n",
       "      <td>2.46531</td>\n",
       "    </tr>\n",
       "    <tr>\n",
       "      <th>4</th>\n",
       "      <td>Canada</td>\n",
       "      <td>North America</td>\n",
       "      <td>5</td>\n",
       "      <td>7.427</td>\n",
       "      <td>0.03553</td>\n",
       "      <td>1.32629</td>\n",
       "      <td>1.32261</td>\n",
       "      <td>0.90563</td>\n",
       "      <td>0.63297</td>\n",
       "      <td>0.32957</td>\n",
       "      <td>0.45811</td>\n",
       "      <td>2.45176</td>\n",
       "    </tr>\n",
       "  </tbody>\n",
       "</table>\n",
       "</div>"
      ],
      "text/plain": [
       "       Country          Region  Happiness Rank  Happiness Score  \\\n",
       "0  Switzerland  Western Europe               1            7.587   \n",
       "1      Iceland  Western Europe               2            7.561   \n",
       "2      Denmark  Western Europe               3            7.527   \n",
       "3       Norway  Western Europe               4            7.522   \n",
       "4       Canada   North America               5            7.427   \n",
       "\n",
       "   Standard Error  Economy (GDP per Capita)   Family  \\\n",
       "0         0.03411                   1.39651  1.34951   \n",
       "1         0.04884                   1.30232  1.40223   \n",
       "2         0.03328                   1.32548  1.36058   \n",
       "3         0.03880                   1.45900  1.33095   \n",
       "4         0.03553                   1.32629  1.32261   \n",
       "\n",
       "   Health (Life Expectancy)  Freedom  Trust (Government Corruption)  \\\n",
       "0                   0.94143  0.66557                        0.41978   \n",
       "1                   0.94784  0.62877                        0.14145   \n",
       "2                   0.87464  0.64938                        0.48357   \n",
       "3                   0.88521  0.66973                        0.36503   \n",
       "4                   0.90563  0.63297                        0.32957   \n",
       "\n",
       "   Generosity  Dystopia Residual  \n",
       "0     0.29678            2.51738  \n",
       "1     0.43630            2.70201  \n",
       "2     0.34139            2.49204  \n",
       "3     0.34699            2.46531  \n",
       "4     0.45811            2.45176  "
      ]
     },
     "execution_count": 4,
     "metadata": {},
     "output_type": "execute_result"
    }
   ],
   "source": [
    "df1.head(5)"
   ]
  },
  {
   "cell_type": "code",
   "execution_count": 5,
   "id": "aa80f520",
   "metadata": {},
   "outputs": [
    {
     "data": {
      "text/html": [
       "<div>\n",
       "<style scoped>\n",
       "    .dataframe tbody tr th:only-of-type {\n",
       "        vertical-align: middle;\n",
       "    }\n",
       "\n",
       "    .dataframe tbody tr th {\n",
       "        vertical-align: top;\n",
       "    }\n",
       "\n",
       "    .dataframe thead th {\n",
       "        text-align: right;\n",
       "    }\n",
       "</style>\n",
       "<table border=\"1\" class=\"dataframe\">\n",
       "  <thead>\n",
       "    <tr style=\"text-align: right;\">\n",
       "      <th></th>\n",
       "      <th>Country</th>\n",
       "      <th>Region</th>\n",
       "      <th>Happiness Rank</th>\n",
       "      <th>Happiness Score</th>\n",
       "      <th>Lower Confidence Interval</th>\n",
       "      <th>Upper Confidence Interval</th>\n",
       "      <th>Economy (GDP per Capita)</th>\n",
       "      <th>Family</th>\n",
       "      <th>Health (Life Expectancy)</th>\n",
       "      <th>Freedom</th>\n",
       "      <th>Trust (Government Corruption)</th>\n",
       "      <th>Generosity</th>\n",
       "      <th>Dystopia Residual</th>\n",
       "    </tr>\n",
       "  </thead>\n",
       "  <tbody>\n",
       "    <tr>\n",
       "      <th>0</th>\n",
       "      <td>Denmark</td>\n",
       "      <td>Western Europe</td>\n",
       "      <td>1</td>\n",
       "      <td>7.526</td>\n",
       "      <td>7.460</td>\n",
       "      <td>7.592</td>\n",
       "      <td>1.44178</td>\n",
       "      <td>1.16374</td>\n",
       "      <td>0.79504</td>\n",
       "      <td>0.57941</td>\n",
       "      <td>0.44453</td>\n",
       "      <td>0.36171</td>\n",
       "      <td>2.73939</td>\n",
       "    </tr>\n",
       "    <tr>\n",
       "      <th>1</th>\n",
       "      <td>Switzerland</td>\n",
       "      <td>Western Europe</td>\n",
       "      <td>2</td>\n",
       "      <td>7.509</td>\n",
       "      <td>7.428</td>\n",
       "      <td>7.590</td>\n",
       "      <td>1.52733</td>\n",
       "      <td>1.14524</td>\n",
       "      <td>0.86303</td>\n",
       "      <td>0.58557</td>\n",
       "      <td>0.41203</td>\n",
       "      <td>0.28083</td>\n",
       "      <td>2.69463</td>\n",
       "    </tr>\n",
       "    <tr>\n",
       "      <th>2</th>\n",
       "      <td>Iceland</td>\n",
       "      <td>Western Europe</td>\n",
       "      <td>3</td>\n",
       "      <td>7.501</td>\n",
       "      <td>7.333</td>\n",
       "      <td>7.669</td>\n",
       "      <td>1.42666</td>\n",
       "      <td>1.18326</td>\n",
       "      <td>0.86733</td>\n",
       "      <td>0.56624</td>\n",
       "      <td>0.14975</td>\n",
       "      <td>0.47678</td>\n",
       "      <td>2.83137</td>\n",
       "    </tr>\n",
       "    <tr>\n",
       "      <th>3</th>\n",
       "      <td>Norway</td>\n",
       "      <td>Western Europe</td>\n",
       "      <td>4</td>\n",
       "      <td>7.498</td>\n",
       "      <td>7.421</td>\n",
       "      <td>7.575</td>\n",
       "      <td>1.57744</td>\n",
       "      <td>1.12690</td>\n",
       "      <td>0.79579</td>\n",
       "      <td>0.59609</td>\n",
       "      <td>0.35776</td>\n",
       "      <td>0.37895</td>\n",
       "      <td>2.66465</td>\n",
       "    </tr>\n",
       "    <tr>\n",
       "      <th>4</th>\n",
       "      <td>Finland</td>\n",
       "      <td>Western Europe</td>\n",
       "      <td>5</td>\n",
       "      <td>7.413</td>\n",
       "      <td>7.351</td>\n",
       "      <td>7.475</td>\n",
       "      <td>1.40598</td>\n",
       "      <td>1.13464</td>\n",
       "      <td>0.81091</td>\n",
       "      <td>0.57104</td>\n",
       "      <td>0.41004</td>\n",
       "      <td>0.25492</td>\n",
       "      <td>2.82596</td>\n",
       "    </tr>\n",
       "  </tbody>\n",
       "</table>\n",
       "</div>"
      ],
      "text/plain": [
       "       Country          Region  Happiness Rank  Happiness Score  \\\n",
       "0      Denmark  Western Europe               1            7.526   \n",
       "1  Switzerland  Western Europe               2            7.509   \n",
       "2      Iceland  Western Europe               3            7.501   \n",
       "3       Norway  Western Europe               4            7.498   \n",
       "4      Finland  Western Europe               5            7.413   \n",
       "\n",
       "   Lower Confidence Interval  Upper Confidence Interval  \\\n",
       "0                      7.460                      7.592   \n",
       "1                      7.428                      7.590   \n",
       "2                      7.333                      7.669   \n",
       "3                      7.421                      7.575   \n",
       "4                      7.351                      7.475   \n",
       "\n",
       "   Economy (GDP per Capita)   Family  Health (Life Expectancy)  Freedom  \\\n",
       "0                   1.44178  1.16374                   0.79504  0.57941   \n",
       "1                   1.52733  1.14524                   0.86303  0.58557   \n",
       "2                   1.42666  1.18326                   0.86733  0.56624   \n",
       "3                   1.57744  1.12690                   0.79579  0.59609   \n",
       "4                   1.40598  1.13464                   0.81091  0.57104   \n",
       "\n",
       "   Trust (Government Corruption)  Generosity  Dystopia Residual  \n",
       "0                        0.44453     0.36171            2.73939  \n",
       "1                        0.41203     0.28083            2.69463  \n",
       "2                        0.14975     0.47678            2.83137  \n",
       "3                        0.35776     0.37895            2.66465  \n",
       "4                        0.41004     0.25492            2.82596  "
      ]
     },
     "execution_count": 5,
     "metadata": {},
     "output_type": "execute_result"
    }
   ],
   "source": [
    "df2.head(5)"
   ]
  },
  {
   "cell_type": "code",
   "execution_count": 6,
   "id": "7cb47bd8",
   "metadata": {},
   "outputs": [
    {
     "data": {
      "text/plain": [
       "True"
      ]
     },
     "execution_count": 6,
     "metadata": {},
     "output_type": "execute_result"
    }
   ],
   "source": [
    "# checking if the confidence interval is indeed mean +- st.error\n",
    "\n",
    "(7526-7460)/1.96==(7592-7526)/1.96"
   ]
  },
  {
   "cell_type": "code",
   "execution_count": 7,
   "id": "a819d575",
   "metadata": {},
   "outputs": [
    {
     "data": {
      "text/html": [
       "<div>\n",
       "<style scoped>\n",
       "    .dataframe tbody tr th:only-of-type {\n",
       "        vertical-align: middle;\n",
       "    }\n",
       "\n",
       "    .dataframe tbody tr th {\n",
       "        vertical-align: top;\n",
       "    }\n",
       "\n",
       "    .dataframe thead th {\n",
       "        text-align: right;\n",
       "    }\n",
       "</style>\n",
       "<table border=\"1\" class=\"dataframe\">\n",
       "  <thead>\n",
       "    <tr style=\"text-align: right;\">\n",
       "      <th></th>\n",
       "      <th>Country</th>\n",
       "      <th>Happiness.Rank</th>\n",
       "      <th>Happiness.Score</th>\n",
       "      <th>Whisker.high</th>\n",
       "      <th>Whisker.low</th>\n",
       "      <th>Economy..GDP.per.Capita.</th>\n",
       "      <th>Family</th>\n",
       "      <th>Health..Life.Expectancy.</th>\n",
       "      <th>Freedom</th>\n",
       "      <th>Generosity</th>\n",
       "      <th>Trust..Government.Corruption.</th>\n",
       "      <th>Dystopia.Residual</th>\n",
       "    </tr>\n",
       "  </thead>\n",
       "  <tbody>\n",
       "    <tr>\n",
       "      <th>0</th>\n",
       "      <td>Norway</td>\n",
       "      <td>1</td>\n",
       "      <td>7.537</td>\n",
       "      <td>7.594445</td>\n",
       "      <td>7.479556</td>\n",
       "      <td>1.616463</td>\n",
       "      <td>1.533524</td>\n",
       "      <td>0.796667</td>\n",
       "      <td>0.635423</td>\n",
       "      <td>0.362012</td>\n",
       "      <td>0.315964</td>\n",
       "      <td>2.277027</td>\n",
       "    </tr>\n",
       "    <tr>\n",
       "      <th>1</th>\n",
       "      <td>Denmark</td>\n",
       "      <td>2</td>\n",
       "      <td>7.522</td>\n",
       "      <td>7.581728</td>\n",
       "      <td>7.462272</td>\n",
       "      <td>1.482383</td>\n",
       "      <td>1.551122</td>\n",
       "      <td>0.792566</td>\n",
       "      <td>0.626007</td>\n",
       "      <td>0.355280</td>\n",
       "      <td>0.400770</td>\n",
       "      <td>2.313707</td>\n",
       "    </tr>\n",
       "    <tr>\n",
       "      <th>2</th>\n",
       "      <td>Iceland</td>\n",
       "      <td>3</td>\n",
       "      <td>7.504</td>\n",
       "      <td>7.622030</td>\n",
       "      <td>7.385970</td>\n",
       "      <td>1.480633</td>\n",
       "      <td>1.610574</td>\n",
       "      <td>0.833552</td>\n",
       "      <td>0.627163</td>\n",
       "      <td>0.475540</td>\n",
       "      <td>0.153527</td>\n",
       "      <td>2.322715</td>\n",
       "    </tr>\n",
       "    <tr>\n",
       "      <th>3</th>\n",
       "      <td>Switzerland</td>\n",
       "      <td>4</td>\n",
       "      <td>7.494</td>\n",
       "      <td>7.561772</td>\n",
       "      <td>7.426227</td>\n",
       "      <td>1.564980</td>\n",
       "      <td>1.516912</td>\n",
       "      <td>0.858131</td>\n",
       "      <td>0.620071</td>\n",
       "      <td>0.290549</td>\n",
       "      <td>0.367007</td>\n",
       "      <td>2.276716</td>\n",
       "    </tr>\n",
       "    <tr>\n",
       "      <th>4</th>\n",
       "      <td>Finland</td>\n",
       "      <td>5</td>\n",
       "      <td>7.469</td>\n",
       "      <td>7.527542</td>\n",
       "      <td>7.410458</td>\n",
       "      <td>1.443572</td>\n",
       "      <td>1.540247</td>\n",
       "      <td>0.809158</td>\n",
       "      <td>0.617951</td>\n",
       "      <td>0.245483</td>\n",
       "      <td>0.382612</td>\n",
       "      <td>2.430182</td>\n",
       "    </tr>\n",
       "  </tbody>\n",
       "</table>\n",
       "</div>"
      ],
      "text/plain": [
       "       Country  Happiness.Rank  Happiness.Score  Whisker.high  Whisker.low  \\\n",
       "0       Norway               1            7.537      7.594445     7.479556   \n",
       "1      Denmark               2            7.522      7.581728     7.462272   \n",
       "2      Iceland               3            7.504      7.622030     7.385970   \n",
       "3  Switzerland               4            7.494      7.561772     7.426227   \n",
       "4      Finland               5            7.469      7.527542     7.410458   \n",
       "\n",
       "   Economy..GDP.per.Capita.    Family  Health..Life.Expectancy.   Freedom  \\\n",
       "0                  1.616463  1.533524                  0.796667  0.635423   \n",
       "1                  1.482383  1.551122                  0.792566  0.626007   \n",
       "2                  1.480633  1.610574                  0.833552  0.627163   \n",
       "3                  1.564980  1.516912                  0.858131  0.620071   \n",
       "4                  1.443572  1.540247                  0.809158  0.617951   \n",
       "\n",
       "   Generosity  Trust..Government.Corruption.  Dystopia.Residual  \n",
       "0    0.362012                       0.315964           2.277027  \n",
       "1    0.355280                       0.400770           2.313707  \n",
       "2    0.475540                       0.153527           2.322715  \n",
       "3    0.290549                       0.367007           2.276716  \n",
       "4    0.245483                       0.382612           2.430182  "
      ]
     },
     "execution_count": 7,
     "metadata": {},
     "output_type": "execute_result"
    }
   ],
   "source": [
    "#it is so we can actually get the st.error from these 2 columns if needed\n",
    "\n",
    "df3.head(5)"
   ]
  },
  {
   "cell_type": "markdown",
   "id": "7d21c4d4",
   "metadata": {},
   "source": [
    "df3 doesn't have confidence interval but rather IQR , so  td.error can be dropped from further analysis"
   ]
  },
  {
   "cell_type": "code",
   "execution_count": 8,
   "id": "3029887a",
   "metadata": {},
   "outputs": [
    {
     "data": {
      "text/html": [
       "<div>\n",
       "<style scoped>\n",
       "    .dataframe tbody tr th:only-of-type {\n",
       "        vertical-align: middle;\n",
       "    }\n",
       "\n",
       "    .dataframe tbody tr th {\n",
       "        vertical-align: top;\n",
       "    }\n",
       "\n",
       "    .dataframe thead th {\n",
       "        text-align: right;\n",
       "    }\n",
       "</style>\n",
       "<table border=\"1\" class=\"dataframe\">\n",
       "  <thead>\n",
       "    <tr style=\"text-align: right;\">\n",
       "      <th></th>\n",
       "      <th>Overall rank</th>\n",
       "      <th>Country or region</th>\n",
       "      <th>Score</th>\n",
       "      <th>GDP per capita</th>\n",
       "      <th>Social support</th>\n",
       "      <th>Healthy life expectancy</th>\n",
       "      <th>Freedom to make life choices</th>\n",
       "      <th>Generosity</th>\n",
       "      <th>Perceptions of corruption</th>\n",
       "    </tr>\n",
       "  </thead>\n",
       "  <tbody>\n",
       "    <tr>\n",
       "      <th>0</th>\n",
       "      <td>1</td>\n",
       "      <td>Finland</td>\n",
       "      <td>7.632</td>\n",
       "      <td>1.305</td>\n",
       "      <td>1.592</td>\n",
       "      <td>0.874</td>\n",
       "      <td>0.681</td>\n",
       "      <td>0.202</td>\n",
       "      <td>0.393</td>\n",
       "    </tr>\n",
       "    <tr>\n",
       "      <th>1</th>\n",
       "      <td>2</td>\n",
       "      <td>Norway</td>\n",
       "      <td>7.594</td>\n",
       "      <td>1.456</td>\n",
       "      <td>1.582</td>\n",
       "      <td>0.861</td>\n",
       "      <td>0.686</td>\n",
       "      <td>0.286</td>\n",
       "      <td>0.340</td>\n",
       "    </tr>\n",
       "    <tr>\n",
       "      <th>2</th>\n",
       "      <td>3</td>\n",
       "      <td>Denmark</td>\n",
       "      <td>7.555</td>\n",
       "      <td>1.351</td>\n",
       "      <td>1.590</td>\n",
       "      <td>0.868</td>\n",
       "      <td>0.683</td>\n",
       "      <td>0.284</td>\n",
       "      <td>0.408</td>\n",
       "    </tr>\n",
       "    <tr>\n",
       "      <th>3</th>\n",
       "      <td>4</td>\n",
       "      <td>Iceland</td>\n",
       "      <td>7.495</td>\n",
       "      <td>1.343</td>\n",
       "      <td>1.644</td>\n",
       "      <td>0.914</td>\n",
       "      <td>0.677</td>\n",
       "      <td>0.353</td>\n",
       "      <td>0.138</td>\n",
       "    </tr>\n",
       "    <tr>\n",
       "      <th>4</th>\n",
       "      <td>5</td>\n",
       "      <td>Switzerland</td>\n",
       "      <td>7.487</td>\n",
       "      <td>1.420</td>\n",
       "      <td>1.549</td>\n",
       "      <td>0.927</td>\n",
       "      <td>0.660</td>\n",
       "      <td>0.256</td>\n",
       "      <td>0.357</td>\n",
       "    </tr>\n",
       "  </tbody>\n",
       "</table>\n",
       "</div>"
      ],
      "text/plain": [
       "   Overall rank Country or region  Score  GDP per capita  Social support  \\\n",
       "0             1           Finland  7.632           1.305           1.592   \n",
       "1             2            Norway  7.594           1.456           1.582   \n",
       "2             3           Denmark  7.555           1.351           1.590   \n",
       "3             4           Iceland  7.495           1.343           1.644   \n",
       "4             5       Switzerland  7.487           1.420           1.549   \n",
       "\n",
       "   Healthy life expectancy  Freedom to make life choices  Generosity  \\\n",
       "0                    0.874                         0.681       0.202   \n",
       "1                    0.861                         0.686       0.286   \n",
       "2                    0.868                         0.683       0.284   \n",
       "3                    0.914                         0.677       0.353   \n",
       "4                    0.927                         0.660       0.256   \n",
       "\n",
       "   Perceptions of corruption  \n",
       "0                      0.393  \n",
       "1                      0.340  \n",
       "2                      0.408  \n",
       "3                      0.138  \n",
       "4                      0.357  "
      ]
     },
     "execution_count": 8,
     "metadata": {},
     "output_type": "execute_result"
    }
   ],
   "source": [
    "df4.head(5)"
   ]
  },
  {
   "cell_type": "code",
   "execution_count": 9,
   "id": "643e988b",
   "metadata": {},
   "outputs": [
    {
     "data": {
      "text/html": [
       "<div>\n",
       "<style scoped>\n",
       "    .dataframe tbody tr th:only-of-type {\n",
       "        vertical-align: middle;\n",
       "    }\n",
       "\n",
       "    .dataframe tbody tr th {\n",
       "        vertical-align: top;\n",
       "    }\n",
       "\n",
       "    .dataframe thead th {\n",
       "        text-align: right;\n",
       "    }\n",
       "</style>\n",
       "<table border=\"1\" class=\"dataframe\">\n",
       "  <thead>\n",
       "    <tr style=\"text-align: right;\">\n",
       "      <th></th>\n",
       "      <th>Overall rank</th>\n",
       "      <th>Country or region</th>\n",
       "      <th>Score</th>\n",
       "      <th>GDP per capita</th>\n",
       "      <th>Social support</th>\n",
       "      <th>Healthy life expectancy</th>\n",
       "      <th>Freedom to make life choices</th>\n",
       "      <th>Generosity</th>\n",
       "      <th>Perceptions of corruption</th>\n",
       "    </tr>\n",
       "  </thead>\n",
       "  <tbody>\n",
       "    <tr>\n",
       "      <th>0</th>\n",
       "      <td>1</td>\n",
       "      <td>Finland</td>\n",
       "      <td>7.769</td>\n",
       "      <td>1.340</td>\n",
       "      <td>1.587</td>\n",
       "      <td>0.986</td>\n",
       "      <td>0.596</td>\n",
       "      <td>0.153</td>\n",
       "      <td>0.393</td>\n",
       "    </tr>\n",
       "    <tr>\n",
       "      <th>1</th>\n",
       "      <td>2</td>\n",
       "      <td>Denmark</td>\n",
       "      <td>7.600</td>\n",
       "      <td>1.383</td>\n",
       "      <td>1.573</td>\n",
       "      <td>0.996</td>\n",
       "      <td>0.592</td>\n",
       "      <td>0.252</td>\n",
       "      <td>0.410</td>\n",
       "    </tr>\n",
       "    <tr>\n",
       "      <th>2</th>\n",
       "      <td>3</td>\n",
       "      <td>Norway</td>\n",
       "      <td>7.554</td>\n",
       "      <td>1.488</td>\n",
       "      <td>1.582</td>\n",
       "      <td>1.028</td>\n",
       "      <td>0.603</td>\n",
       "      <td>0.271</td>\n",
       "      <td>0.341</td>\n",
       "    </tr>\n",
       "    <tr>\n",
       "      <th>3</th>\n",
       "      <td>4</td>\n",
       "      <td>Iceland</td>\n",
       "      <td>7.494</td>\n",
       "      <td>1.380</td>\n",
       "      <td>1.624</td>\n",
       "      <td>1.026</td>\n",
       "      <td>0.591</td>\n",
       "      <td>0.354</td>\n",
       "      <td>0.118</td>\n",
       "    </tr>\n",
       "    <tr>\n",
       "      <th>4</th>\n",
       "      <td>5</td>\n",
       "      <td>Netherlands</td>\n",
       "      <td>7.488</td>\n",
       "      <td>1.396</td>\n",
       "      <td>1.522</td>\n",
       "      <td>0.999</td>\n",
       "      <td>0.557</td>\n",
       "      <td>0.322</td>\n",
       "      <td>0.298</td>\n",
       "    </tr>\n",
       "  </tbody>\n",
       "</table>\n",
       "</div>"
      ],
      "text/plain": [
       "   Overall rank Country or region  Score  GDP per capita  Social support  \\\n",
       "0             1           Finland  7.769           1.340           1.587   \n",
       "1             2           Denmark  7.600           1.383           1.573   \n",
       "2             3            Norway  7.554           1.488           1.582   \n",
       "3             4           Iceland  7.494           1.380           1.624   \n",
       "4             5       Netherlands  7.488           1.396           1.522   \n",
       "\n",
       "   Healthy life expectancy  Freedom to make life choices  Generosity  \\\n",
       "0                    0.986                         0.596       0.153   \n",
       "1                    0.996                         0.592       0.252   \n",
       "2                    1.028                         0.603       0.271   \n",
       "3                    1.026                         0.591       0.354   \n",
       "4                    0.999                         0.557       0.322   \n",
       "\n",
       "   Perceptions of corruption  \n",
       "0                      0.393  \n",
       "1                      0.410  \n",
       "2                      0.341  \n",
       "3                      0.118  \n",
       "4                      0.298  "
      ]
     },
     "execution_count": 9,
     "metadata": {},
     "output_type": "execute_result"
    }
   ],
   "source": [
    "df5.head()"
   ]
  },
  {
   "cell_type": "markdown",
   "id": "7eaeb194",
   "metadata": {},
   "source": [
    "df4 and df5 are missing distopia residual. when I check through sample calculation it seems that we can find it by subtracting all other values from the Happiness score like in the example below fro Finland in df5 :\n",
    "\n",
    "7.769-1.340-1.587-0.986-0.596-0.153-0.393= 2.714\n",
    "\n",
    "This seems to be a reasonable value when Icompare it with the residuals from the first 3 data frames. I will therefor make a residual columns for df4 and df5."
   ]
  },
  {
   "cell_type": "code",
   "execution_count": 10,
   "id": "106b111e",
   "metadata": {},
   "outputs": [],
   "source": [
    "df4['residual']=df4['Score'] - df4['GDP per capita']-df4['Social support'] - df4['Healthy life expectancy']- df4['Freedom to make life choices'] - df4['Generosity']-df4['Perceptions of corruption']"
   ]
  },
  {
   "cell_type": "code",
   "execution_count": 11,
   "id": "84b7dba7",
   "metadata": {},
   "outputs": [],
   "source": [
    "df5['residual']=df5['Score'] - df5['GDP per capita']-df5['Social support'] - df5['Healthy life expectancy']- df5['Freedom to make life choices'] - df5['Generosity']-df5['Perceptions of corruption']"
   ]
  },
  {
   "cell_type": "code",
   "execution_count": 12,
   "id": "93a51f47",
   "metadata": {},
   "outputs": [
    {
     "data": {
      "text/html": [
       "<div>\n",
       "<style scoped>\n",
       "    .dataframe tbody tr th:only-of-type {\n",
       "        vertical-align: middle;\n",
       "    }\n",
       "\n",
       "    .dataframe tbody tr th {\n",
       "        vertical-align: top;\n",
       "    }\n",
       "\n",
       "    .dataframe thead th {\n",
       "        text-align: right;\n",
       "    }\n",
       "</style>\n",
       "<table border=\"1\" class=\"dataframe\">\n",
       "  <thead>\n",
       "    <tr style=\"text-align: right;\">\n",
       "      <th></th>\n",
       "      <th>Overall rank</th>\n",
       "      <th>Country or region</th>\n",
       "      <th>Score</th>\n",
       "      <th>GDP per capita</th>\n",
       "      <th>Social support</th>\n",
       "      <th>Healthy life expectancy</th>\n",
       "      <th>Freedom to make life choices</th>\n",
       "      <th>Generosity</th>\n",
       "      <th>Perceptions of corruption</th>\n",
       "      <th>residual</th>\n",
       "    </tr>\n",
       "  </thead>\n",
       "  <tbody>\n",
       "    <tr>\n",
       "      <th>0</th>\n",
       "      <td>1</td>\n",
       "      <td>Finland</td>\n",
       "      <td>7.632</td>\n",
       "      <td>1.305</td>\n",
       "      <td>1.592</td>\n",
       "      <td>0.874</td>\n",
       "      <td>0.681</td>\n",
       "      <td>0.202</td>\n",
       "      <td>0.393</td>\n",
       "      <td>2.585</td>\n",
       "    </tr>\n",
       "    <tr>\n",
       "      <th>1</th>\n",
       "      <td>2</td>\n",
       "      <td>Norway</td>\n",
       "      <td>7.594</td>\n",
       "      <td>1.456</td>\n",
       "      <td>1.582</td>\n",
       "      <td>0.861</td>\n",
       "      <td>0.686</td>\n",
       "      <td>0.286</td>\n",
       "      <td>0.340</td>\n",
       "      <td>2.383</td>\n",
       "    </tr>\n",
       "    <tr>\n",
       "      <th>2</th>\n",
       "      <td>3</td>\n",
       "      <td>Denmark</td>\n",
       "      <td>7.555</td>\n",
       "      <td>1.351</td>\n",
       "      <td>1.590</td>\n",
       "      <td>0.868</td>\n",
       "      <td>0.683</td>\n",
       "      <td>0.284</td>\n",
       "      <td>0.408</td>\n",
       "      <td>2.371</td>\n",
       "    </tr>\n",
       "    <tr>\n",
       "      <th>3</th>\n",
       "      <td>4</td>\n",
       "      <td>Iceland</td>\n",
       "      <td>7.495</td>\n",
       "      <td>1.343</td>\n",
       "      <td>1.644</td>\n",
       "      <td>0.914</td>\n",
       "      <td>0.677</td>\n",
       "      <td>0.353</td>\n",
       "      <td>0.138</td>\n",
       "      <td>2.426</td>\n",
       "    </tr>\n",
       "    <tr>\n",
       "      <th>4</th>\n",
       "      <td>5</td>\n",
       "      <td>Switzerland</td>\n",
       "      <td>7.487</td>\n",
       "      <td>1.420</td>\n",
       "      <td>1.549</td>\n",
       "      <td>0.927</td>\n",
       "      <td>0.660</td>\n",
       "      <td>0.256</td>\n",
       "      <td>0.357</td>\n",
       "      <td>2.318</td>\n",
       "    </tr>\n",
       "  </tbody>\n",
       "</table>\n",
       "</div>"
      ],
      "text/plain": [
       "   Overall rank Country or region  Score  GDP per capita  Social support  \\\n",
       "0             1           Finland  7.632           1.305           1.592   \n",
       "1             2            Norway  7.594           1.456           1.582   \n",
       "2             3           Denmark  7.555           1.351           1.590   \n",
       "3             4           Iceland  7.495           1.343           1.644   \n",
       "4             5       Switzerland  7.487           1.420           1.549   \n",
       "\n",
       "   Healthy life expectancy  Freedom to make life choices  Generosity  \\\n",
       "0                    0.874                         0.681       0.202   \n",
       "1                    0.861                         0.686       0.286   \n",
       "2                    0.868                         0.683       0.284   \n",
       "3                    0.914                         0.677       0.353   \n",
       "4                    0.927                         0.660       0.256   \n",
       "\n",
       "   Perceptions of corruption  residual  \n",
       "0                      0.393     2.585  \n",
       "1                      0.340     2.383  \n",
       "2                      0.408     2.371  \n",
       "3                      0.138     2.426  \n",
       "4                      0.357     2.318  "
      ]
     },
     "execution_count": 12,
     "metadata": {},
     "output_type": "execute_result"
    }
   ],
   "source": [
    "df4.head()"
   ]
  },
  {
   "cell_type": "code",
   "execution_count": 13,
   "id": "17b5cbf1",
   "metadata": {},
   "outputs": [
    {
     "data": {
      "text/html": [
       "<div>\n",
       "<style scoped>\n",
       "    .dataframe tbody tr th:only-of-type {\n",
       "        vertical-align: middle;\n",
       "    }\n",
       "\n",
       "    .dataframe tbody tr th {\n",
       "        vertical-align: top;\n",
       "    }\n",
       "\n",
       "    .dataframe thead th {\n",
       "        text-align: right;\n",
       "    }\n",
       "</style>\n",
       "<table border=\"1\" class=\"dataframe\">\n",
       "  <thead>\n",
       "    <tr style=\"text-align: right;\">\n",
       "      <th></th>\n",
       "      <th>Overall rank</th>\n",
       "      <th>Country or region</th>\n",
       "      <th>Score</th>\n",
       "      <th>GDP per capita</th>\n",
       "      <th>Social support</th>\n",
       "      <th>Healthy life expectancy</th>\n",
       "      <th>Freedom to make life choices</th>\n",
       "      <th>Generosity</th>\n",
       "      <th>Perceptions of corruption</th>\n",
       "      <th>residual</th>\n",
       "    </tr>\n",
       "  </thead>\n",
       "  <tbody>\n",
       "    <tr>\n",
       "      <th>0</th>\n",
       "      <td>1</td>\n",
       "      <td>Finland</td>\n",
       "      <td>7.769</td>\n",
       "      <td>1.340</td>\n",
       "      <td>1.587</td>\n",
       "      <td>0.986</td>\n",
       "      <td>0.596</td>\n",
       "      <td>0.153</td>\n",
       "      <td>0.393</td>\n",
       "      <td>2.714</td>\n",
       "    </tr>\n",
       "    <tr>\n",
       "      <th>1</th>\n",
       "      <td>2</td>\n",
       "      <td>Denmark</td>\n",
       "      <td>7.600</td>\n",
       "      <td>1.383</td>\n",
       "      <td>1.573</td>\n",
       "      <td>0.996</td>\n",
       "      <td>0.592</td>\n",
       "      <td>0.252</td>\n",
       "      <td>0.410</td>\n",
       "      <td>2.394</td>\n",
       "    </tr>\n",
       "    <tr>\n",
       "      <th>2</th>\n",
       "      <td>3</td>\n",
       "      <td>Norway</td>\n",
       "      <td>7.554</td>\n",
       "      <td>1.488</td>\n",
       "      <td>1.582</td>\n",
       "      <td>1.028</td>\n",
       "      <td>0.603</td>\n",
       "      <td>0.271</td>\n",
       "      <td>0.341</td>\n",
       "      <td>2.241</td>\n",
       "    </tr>\n",
       "    <tr>\n",
       "      <th>3</th>\n",
       "      <td>4</td>\n",
       "      <td>Iceland</td>\n",
       "      <td>7.494</td>\n",
       "      <td>1.380</td>\n",
       "      <td>1.624</td>\n",
       "      <td>1.026</td>\n",
       "      <td>0.591</td>\n",
       "      <td>0.354</td>\n",
       "      <td>0.118</td>\n",
       "      <td>2.401</td>\n",
       "    </tr>\n",
       "    <tr>\n",
       "      <th>4</th>\n",
       "      <td>5</td>\n",
       "      <td>Netherlands</td>\n",
       "      <td>7.488</td>\n",
       "      <td>1.396</td>\n",
       "      <td>1.522</td>\n",
       "      <td>0.999</td>\n",
       "      <td>0.557</td>\n",
       "      <td>0.322</td>\n",
       "      <td>0.298</td>\n",
       "      <td>2.394</td>\n",
       "    </tr>\n",
       "  </tbody>\n",
       "</table>\n",
       "</div>"
      ],
      "text/plain": [
       "   Overall rank Country or region  Score  GDP per capita  Social support  \\\n",
       "0             1           Finland  7.769           1.340           1.587   \n",
       "1             2           Denmark  7.600           1.383           1.573   \n",
       "2             3            Norway  7.554           1.488           1.582   \n",
       "3             4           Iceland  7.494           1.380           1.624   \n",
       "4             5       Netherlands  7.488           1.396           1.522   \n",
       "\n",
       "   Healthy life expectancy  Freedom to make life choices  Generosity  \\\n",
       "0                    0.986                         0.596       0.153   \n",
       "1                    0.996                         0.592       0.252   \n",
       "2                    1.028                         0.603       0.271   \n",
       "3                    1.026                         0.591       0.354   \n",
       "4                    0.999                         0.557       0.322   \n",
       "\n",
       "   Perceptions of corruption  residual  \n",
       "0                      0.393     2.714  \n",
       "1                      0.410     2.394  \n",
       "2                      0.341     2.241  \n",
       "3                      0.118     2.401  \n",
       "4                      0.298     2.394  "
      ]
     },
     "execution_count": 13,
     "metadata": {},
     "output_type": "execute_result"
    }
   ],
   "source": [
    "df5.head()"
   ]
  },
  {
   "cell_type": "markdown",
   "id": "6e35ecdd",
   "metadata": {},
   "source": [
    "I will cpompare the average residual for df4 and df5 with residuals from previous years to check if the values seems reasonable."
   ]
  },
  {
   "cell_type": "code",
   "execution_count": 14,
   "id": "657d1584",
   "metadata": {},
   "outputs": [
    {
     "name": "stdout",
     "output_type": "stream",
     "text": [
      " 2.098976772151899 \n",
      " 2.3258065605095544 \n",
      " 1.8502378056126256 \n",
      " 1.9217032258064526 \n",
      " 1.8798717948717951\n"
     ]
    }
   ],
   "source": [
    "print('' ,df1['Dystopia Residual'].mean(),'\\n',df2['Dystopia Residual'].mean(),'\\n',df3['Dystopia.Residual'].mean(),\n",
    "      '\\n', df4['residual'].mean(), '\\n',df5['residual'].mean())"
   ]
  },
  {
   "cell_type": "markdown",
   "id": "992a21a8",
   "metadata": {},
   "source": [
    "Values do indeed seem reasonable. "
   ]
  },
  {
   "cell_type": "markdown",
   "id": "f307260f",
   "metadata": {},
   "source": [
    "We can notice that the column family has been replaced with the Social support but the values are very similar. I believe that it is safe to assume that those columns represent the same thing as sometimes people consider very close friend the family and probably think of them as of family. So I will treat these 2 columns as they're representing the same thing.\n",
    "\n",
    "There are 8  common columns amongst these 5 dataframes:\n",
    "-country or region,score,GDP,Family/social support,life expectancy,freedom to make choices,generosity and perception of corruption.There is no region column in the last 3 dataframes and I think that it is an important coulumn my future analysis. I will add the region column after I clean my datasets. "
   ]
  },
  {
   "cell_type": "markdown",
   "id": "089ccb43",
   "metadata": {},
   "source": [
    "I will rename columns and drop columns that are not in common (except from region). I will save those dataframes as df1_new,df2_new... "
   ]
  },
  {
   "cell_type": "code",
   "execution_count": 15,
   "id": "0c914240",
   "metadata": {},
   "outputs": [],
   "source": [
    "columns=['Country', 'Region','Happiness Score','Economy (GDP per Capita)', 'Family',\n",
    "       'Health (Life Expectancy)', 'Freedom', 'Trust (Government Corruption)','Generosity','Dystopia Residual']"
   ]
  },
  {
   "cell_type": "code",
   "execution_count": 16,
   "id": "ab58029f",
   "metadata": {},
   "outputs": [],
   "source": [
    "new_columns_15=['country','region','happiness score','GDP_15','family/social_support_15','life_expectancy_15','freedom_to_make_choices_15','perception_of_corruption_15','generosity_15','residual_15']"
   ]
  },
  {
   "cell_type": "code",
   "execution_count": 17,
   "id": "8c1dcdda",
   "metadata": {},
   "outputs": [],
   "source": [
    "df1_new=df1.drop(['Happiness Rank','Standard Error'],axis=1)"
   ]
  },
  {
   "cell_type": "code",
   "execution_count": 18,
   "id": "ba365327",
   "metadata": {},
   "outputs": [],
   "source": [
    "df1_new.rename(columns=dict(zip(columns,new_columns_15)),inplace=True)"
   ]
  },
  {
   "cell_type": "code",
   "execution_count": 19,
   "id": "487a2673",
   "metadata": {},
   "outputs": [
    {
     "data": {
      "text/html": [
       "<div>\n",
       "<style scoped>\n",
       "    .dataframe tbody tr th:only-of-type {\n",
       "        vertical-align: middle;\n",
       "    }\n",
       "\n",
       "    .dataframe tbody tr th {\n",
       "        vertical-align: top;\n",
       "    }\n",
       "\n",
       "    .dataframe thead th {\n",
       "        text-align: right;\n",
       "    }\n",
       "</style>\n",
       "<table border=\"1\" class=\"dataframe\">\n",
       "  <thead>\n",
       "    <tr style=\"text-align: right;\">\n",
       "      <th></th>\n",
       "      <th>country</th>\n",
       "      <th>region</th>\n",
       "      <th>happiness score</th>\n",
       "      <th>GDP_15</th>\n",
       "      <th>family/social_support_15</th>\n",
       "      <th>life_expectancy_15</th>\n",
       "      <th>freedom_to_make_choices_15</th>\n",
       "      <th>perception_of_corruption_15</th>\n",
       "      <th>generosity_15</th>\n",
       "      <th>residual_15</th>\n",
       "    </tr>\n",
       "  </thead>\n",
       "  <tbody>\n",
       "    <tr>\n",
       "      <th>0</th>\n",
       "      <td>Switzerland</td>\n",
       "      <td>Western Europe</td>\n",
       "      <td>7.587</td>\n",
       "      <td>1.39651</td>\n",
       "      <td>1.34951</td>\n",
       "      <td>0.94143</td>\n",
       "      <td>0.66557</td>\n",
       "      <td>0.41978</td>\n",
       "      <td>0.29678</td>\n",
       "      <td>2.51738</td>\n",
       "    </tr>\n",
       "    <tr>\n",
       "      <th>1</th>\n",
       "      <td>Iceland</td>\n",
       "      <td>Western Europe</td>\n",
       "      <td>7.561</td>\n",
       "      <td>1.30232</td>\n",
       "      <td>1.40223</td>\n",
       "      <td>0.94784</td>\n",
       "      <td>0.62877</td>\n",
       "      <td>0.14145</td>\n",
       "      <td>0.43630</td>\n",
       "      <td>2.70201</td>\n",
       "    </tr>\n",
       "    <tr>\n",
       "      <th>2</th>\n",
       "      <td>Denmark</td>\n",
       "      <td>Western Europe</td>\n",
       "      <td>7.527</td>\n",
       "      <td>1.32548</td>\n",
       "      <td>1.36058</td>\n",
       "      <td>0.87464</td>\n",
       "      <td>0.64938</td>\n",
       "      <td>0.48357</td>\n",
       "      <td>0.34139</td>\n",
       "      <td>2.49204</td>\n",
       "    </tr>\n",
       "    <tr>\n",
       "      <th>3</th>\n",
       "      <td>Norway</td>\n",
       "      <td>Western Europe</td>\n",
       "      <td>7.522</td>\n",
       "      <td>1.45900</td>\n",
       "      <td>1.33095</td>\n",
       "      <td>0.88521</td>\n",
       "      <td>0.66973</td>\n",
       "      <td>0.36503</td>\n",
       "      <td>0.34699</td>\n",
       "      <td>2.46531</td>\n",
       "    </tr>\n",
       "    <tr>\n",
       "      <th>4</th>\n",
       "      <td>Canada</td>\n",
       "      <td>North America</td>\n",
       "      <td>7.427</td>\n",
       "      <td>1.32629</td>\n",
       "      <td>1.32261</td>\n",
       "      <td>0.90563</td>\n",
       "      <td>0.63297</td>\n",
       "      <td>0.32957</td>\n",
       "      <td>0.45811</td>\n",
       "      <td>2.45176</td>\n",
       "    </tr>\n",
       "    <tr>\n",
       "      <th>...</th>\n",
       "      <td>...</td>\n",
       "      <td>...</td>\n",
       "      <td>...</td>\n",
       "      <td>...</td>\n",
       "      <td>...</td>\n",
       "      <td>...</td>\n",
       "      <td>...</td>\n",
       "      <td>...</td>\n",
       "      <td>...</td>\n",
       "      <td>...</td>\n",
       "    </tr>\n",
       "    <tr>\n",
       "      <th>153</th>\n",
       "      <td>Rwanda</td>\n",
       "      <td>Sub-Saharan Africa</td>\n",
       "      <td>3.465</td>\n",
       "      <td>0.22208</td>\n",
       "      <td>0.77370</td>\n",
       "      <td>0.42864</td>\n",
       "      <td>0.59201</td>\n",
       "      <td>0.55191</td>\n",
       "      <td>0.22628</td>\n",
       "      <td>0.67042</td>\n",
       "    </tr>\n",
       "    <tr>\n",
       "      <th>154</th>\n",
       "      <td>Benin</td>\n",
       "      <td>Sub-Saharan Africa</td>\n",
       "      <td>3.340</td>\n",
       "      <td>0.28665</td>\n",
       "      <td>0.35386</td>\n",
       "      <td>0.31910</td>\n",
       "      <td>0.48450</td>\n",
       "      <td>0.08010</td>\n",
       "      <td>0.18260</td>\n",
       "      <td>1.63328</td>\n",
       "    </tr>\n",
       "    <tr>\n",
       "      <th>155</th>\n",
       "      <td>Syria</td>\n",
       "      <td>Middle East and Northern Africa</td>\n",
       "      <td>3.006</td>\n",
       "      <td>0.66320</td>\n",
       "      <td>0.47489</td>\n",
       "      <td>0.72193</td>\n",
       "      <td>0.15684</td>\n",
       "      <td>0.18906</td>\n",
       "      <td>0.47179</td>\n",
       "      <td>0.32858</td>\n",
       "    </tr>\n",
       "    <tr>\n",
       "      <th>156</th>\n",
       "      <td>Burundi</td>\n",
       "      <td>Sub-Saharan Africa</td>\n",
       "      <td>2.905</td>\n",
       "      <td>0.01530</td>\n",
       "      <td>0.41587</td>\n",
       "      <td>0.22396</td>\n",
       "      <td>0.11850</td>\n",
       "      <td>0.10062</td>\n",
       "      <td>0.19727</td>\n",
       "      <td>1.83302</td>\n",
       "    </tr>\n",
       "    <tr>\n",
       "      <th>157</th>\n",
       "      <td>Togo</td>\n",
       "      <td>Sub-Saharan Africa</td>\n",
       "      <td>2.839</td>\n",
       "      <td>0.20868</td>\n",
       "      <td>0.13995</td>\n",
       "      <td>0.28443</td>\n",
       "      <td>0.36453</td>\n",
       "      <td>0.10731</td>\n",
       "      <td>0.16681</td>\n",
       "      <td>1.56726</td>\n",
       "    </tr>\n",
       "  </tbody>\n",
       "</table>\n",
       "<p>158 rows × 10 columns</p>\n",
       "</div>"
      ],
      "text/plain": [
       "         country                           region  happiness score   GDP_15  \\\n",
       "0    Switzerland                   Western Europe            7.587  1.39651   \n",
       "1        Iceland                   Western Europe            7.561  1.30232   \n",
       "2        Denmark                   Western Europe            7.527  1.32548   \n",
       "3         Norway                   Western Europe            7.522  1.45900   \n",
       "4         Canada                    North America            7.427  1.32629   \n",
       "..           ...                              ...              ...      ...   \n",
       "153       Rwanda               Sub-Saharan Africa            3.465  0.22208   \n",
       "154        Benin               Sub-Saharan Africa            3.340  0.28665   \n",
       "155        Syria  Middle East and Northern Africa            3.006  0.66320   \n",
       "156      Burundi               Sub-Saharan Africa            2.905  0.01530   \n",
       "157         Togo               Sub-Saharan Africa            2.839  0.20868   \n",
       "\n",
       "     family/social_support_15  life_expectancy_15  freedom_to_make_choices_15  \\\n",
       "0                     1.34951             0.94143                     0.66557   \n",
       "1                     1.40223             0.94784                     0.62877   \n",
       "2                     1.36058             0.87464                     0.64938   \n",
       "3                     1.33095             0.88521                     0.66973   \n",
       "4                     1.32261             0.90563                     0.63297   \n",
       "..                        ...                 ...                         ...   \n",
       "153                   0.77370             0.42864                     0.59201   \n",
       "154                   0.35386             0.31910                     0.48450   \n",
       "155                   0.47489             0.72193                     0.15684   \n",
       "156                   0.41587             0.22396                     0.11850   \n",
       "157                   0.13995             0.28443                     0.36453   \n",
       "\n",
       "     perception_of_corruption_15  generosity_15  residual_15  \n",
       "0                        0.41978        0.29678      2.51738  \n",
       "1                        0.14145        0.43630      2.70201  \n",
       "2                        0.48357        0.34139      2.49204  \n",
       "3                        0.36503        0.34699      2.46531  \n",
       "4                        0.32957        0.45811      2.45176  \n",
       "..                           ...            ...          ...  \n",
       "153                      0.55191        0.22628      0.67042  \n",
       "154                      0.08010        0.18260      1.63328  \n",
       "155                      0.18906        0.47179      0.32858  \n",
       "156                      0.10062        0.19727      1.83302  \n",
       "157                      0.10731        0.16681      1.56726  \n",
       "\n",
       "[158 rows x 10 columns]"
      ]
     },
     "execution_count": 19,
     "metadata": {},
     "output_type": "execute_result"
    }
   ],
   "source": [
    "df1_new"
   ]
  },
  {
   "cell_type": "code",
   "execution_count": 20,
   "id": "9a4c4f1e",
   "metadata": {},
   "outputs": [],
   "source": [
    "columns_2=['Country','Region', 'Happiness Score','Economy (GDP per Capita)', 'Family', 'Health (Life Expectancy)',\n",
    "       'Freedom', 'Trust (Government Corruption)', 'Generosity',\n",
    "       'Dystopia Residual']\n",
    "df2_new=df2.drop(['Happiness Rank','Lower Confidence Interval', 'Upper Confidence Interval'],axis=1)"
   ]
  },
  {
   "cell_type": "code",
   "execution_count": 21,
   "id": "6c1b2b02",
   "metadata": {},
   "outputs": [],
   "source": [
    "new_columns_16=['country','region','happiness score','GDP_16','family/social_support_16','life_expectancy_16','freedom_to_make_choices_16','perception_of_corruption_16','generosity_16','residual_16']"
   ]
  },
  {
   "cell_type": "code",
   "execution_count": 22,
   "id": "db8acdcc",
   "metadata": {},
   "outputs": [],
   "source": [
    "df2_new.rename(columns=dict(zip(columns_2,new_columns_16)),inplace=True)"
   ]
  },
  {
   "cell_type": "code",
   "execution_count": 23,
   "id": "57f059ca",
   "metadata": {},
   "outputs": [
    {
     "data": {
      "text/html": [
       "<div>\n",
       "<style scoped>\n",
       "    .dataframe tbody tr th:only-of-type {\n",
       "        vertical-align: middle;\n",
       "    }\n",
       "\n",
       "    .dataframe tbody tr th {\n",
       "        vertical-align: top;\n",
       "    }\n",
       "\n",
       "    .dataframe thead th {\n",
       "        text-align: right;\n",
       "    }\n",
       "</style>\n",
       "<table border=\"1\" class=\"dataframe\">\n",
       "  <thead>\n",
       "    <tr style=\"text-align: right;\">\n",
       "      <th></th>\n",
       "      <th>country</th>\n",
       "      <th>region</th>\n",
       "      <th>happiness score</th>\n",
       "      <th>GDP_16</th>\n",
       "      <th>family/social_support_16</th>\n",
       "      <th>life_expectancy_16</th>\n",
       "      <th>freedom_to_make_choices_16</th>\n",
       "      <th>perception_of_corruption_16</th>\n",
       "      <th>generosity_16</th>\n",
       "      <th>residual_16</th>\n",
       "    </tr>\n",
       "  </thead>\n",
       "  <tbody>\n",
       "    <tr>\n",
       "      <th>0</th>\n",
       "      <td>Denmark</td>\n",
       "      <td>Western Europe</td>\n",
       "      <td>7.526</td>\n",
       "      <td>1.44178</td>\n",
       "      <td>1.16374</td>\n",
       "      <td>0.79504</td>\n",
       "      <td>0.57941</td>\n",
       "      <td>0.44453</td>\n",
       "      <td>0.36171</td>\n",
       "      <td>2.73939</td>\n",
       "    </tr>\n",
       "    <tr>\n",
       "      <th>1</th>\n",
       "      <td>Switzerland</td>\n",
       "      <td>Western Europe</td>\n",
       "      <td>7.509</td>\n",
       "      <td>1.52733</td>\n",
       "      <td>1.14524</td>\n",
       "      <td>0.86303</td>\n",
       "      <td>0.58557</td>\n",
       "      <td>0.41203</td>\n",
       "      <td>0.28083</td>\n",
       "      <td>2.69463</td>\n",
       "    </tr>\n",
       "  </tbody>\n",
       "</table>\n",
       "</div>"
      ],
      "text/plain": [
       "       country          region  happiness score   GDP_16  \\\n",
       "0      Denmark  Western Europe            7.526  1.44178   \n",
       "1  Switzerland  Western Europe            7.509  1.52733   \n",
       "\n",
       "   family/social_support_16  life_expectancy_16  freedom_to_make_choices_16  \\\n",
       "0                   1.16374             0.79504                     0.57941   \n",
       "1                   1.14524             0.86303                     0.58557   \n",
       "\n",
       "   perception_of_corruption_16  generosity_16  residual_16  \n",
       "0                      0.44453        0.36171      2.73939  \n",
       "1                      0.41203        0.28083      2.69463  "
      ]
     },
     "execution_count": 23,
     "metadata": {},
     "output_type": "execute_result"
    }
   ],
   "source": [
    "df2_new.head(2)"
   ]
  },
  {
   "cell_type": "code",
   "execution_count": 24,
   "id": "cdc022ad",
   "metadata": {},
   "outputs": [],
   "source": [
    "columns_3=['Country', 'Happiness.Score', 'Economy..GDP.per.Capita.', 'Family',\n",
    "       'Health..Life.Expectancy.', 'Freedom','Trust..Government.Corruption.',\n",
    "            'Generosity','Dystopia.Residual']\n",
    "df3_new=df3.drop([  'Happiness.Rank','Whisker.high','Whisker.low', ],axis=1)\n",
    "new_columns_17=['country','happiness score','GDP_17','family/social_support_17','life_expectancy_17','freedom_to_make_choices_17','perception_of_corruption_17','generosity_17','residual_17']\n",
    "df3_new.rename(columns=dict(zip(columns_3,new_columns_17)),inplace=True)"
   ]
  },
  {
   "cell_type": "code",
   "execution_count": 25,
   "id": "85d2d1eb",
   "metadata": {},
   "outputs": [
    {
     "data": {
      "text/html": [
       "<div>\n",
       "<style scoped>\n",
       "    .dataframe tbody tr th:only-of-type {\n",
       "        vertical-align: middle;\n",
       "    }\n",
       "\n",
       "    .dataframe tbody tr th {\n",
       "        vertical-align: top;\n",
       "    }\n",
       "\n",
       "    .dataframe thead th {\n",
       "        text-align: right;\n",
       "    }\n",
       "</style>\n",
       "<table border=\"1\" class=\"dataframe\">\n",
       "  <thead>\n",
       "    <tr style=\"text-align: right;\">\n",
       "      <th></th>\n",
       "      <th>country</th>\n",
       "      <th>happiness score</th>\n",
       "      <th>GDP_17</th>\n",
       "      <th>family/social_support_17</th>\n",
       "      <th>life_expectancy_17</th>\n",
       "      <th>freedom_to_make_choices_17</th>\n",
       "      <th>generosity_17</th>\n",
       "      <th>perception_of_corruption_17</th>\n",
       "      <th>residual_17</th>\n",
       "    </tr>\n",
       "  </thead>\n",
       "  <tbody>\n",
       "    <tr>\n",
       "      <th>0</th>\n",
       "      <td>Norway</td>\n",
       "      <td>7.537</td>\n",
       "      <td>1.616463</td>\n",
       "      <td>1.533524</td>\n",
       "      <td>0.796667</td>\n",
       "      <td>0.635423</td>\n",
       "      <td>0.362012</td>\n",
       "      <td>0.315964</td>\n",
       "      <td>2.277027</td>\n",
       "    </tr>\n",
       "    <tr>\n",
       "      <th>1</th>\n",
       "      <td>Denmark</td>\n",
       "      <td>7.522</td>\n",
       "      <td>1.482383</td>\n",
       "      <td>1.551122</td>\n",
       "      <td>0.792566</td>\n",
       "      <td>0.626007</td>\n",
       "      <td>0.355280</td>\n",
       "      <td>0.400770</td>\n",
       "      <td>2.313707</td>\n",
       "    </tr>\n",
       "    <tr>\n",
       "      <th>2</th>\n",
       "      <td>Iceland</td>\n",
       "      <td>7.504</td>\n",
       "      <td>1.480633</td>\n",
       "      <td>1.610574</td>\n",
       "      <td>0.833552</td>\n",
       "      <td>0.627163</td>\n",
       "      <td>0.475540</td>\n",
       "      <td>0.153527</td>\n",
       "      <td>2.322715</td>\n",
       "    </tr>\n",
       "    <tr>\n",
       "      <th>3</th>\n",
       "      <td>Switzerland</td>\n",
       "      <td>7.494</td>\n",
       "      <td>1.564980</td>\n",
       "      <td>1.516912</td>\n",
       "      <td>0.858131</td>\n",
       "      <td>0.620071</td>\n",
       "      <td>0.290549</td>\n",
       "      <td>0.367007</td>\n",
       "      <td>2.276716</td>\n",
       "    </tr>\n",
       "    <tr>\n",
       "      <th>4</th>\n",
       "      <td>Finland</td>\n",
       "      <td>7.469</td>\n",
       "      <td>1.443572</td>\n",
       "      <td>1.540247</td>\n",
       "      <td>0.809158</td>\n",
       "      <td>0.617951</td>\n",
       "      <td>0.245483</td>\n",
       "      <td>0.382612</td>\n",
       "      <td>2.430182</td>\n",
       "    </tr>\n",
       "  </tbody>\n",
       "</table>\n",
       "</div>"
      ],
      "text/plain": [
       "       country  happiness score    GDP_17  family/social_support_17  \\\n",
       "0       Norway            7.537  1.616463                  1.533524   \n",
       "1      Denmark            7.522  1.482383                  1.551122   \n",
       "2      Iceland            7.504  1.480633                  1.610574   \n",
       "3  Switzerland            7.494  1.564980                  1.516912   \n",
       "4      Finland            7.469  1.443572                  1.540247   \n",
       "\n",
       "   life_expectancy_17  freedom_to_make_choices_17  generosity_17  \\\n",
       "0            0.796667                    0.635423       0.362012   \n",
       "1            0.792566                    0.626007       0.355280   \n",
       "2            0.833552                    0.627163       0.475540   \n",
       "3            0.858131                    0.620071       0.290549   \n",
       "4            0.809158                    0.617951       0.245483   \n",
       "\n",
       "   perception_of_corruption_17  residual_17  \n",
       "0                     0.315964     2.277027  \n",
       "1                     0.400770     2.313707  \n",
       "2                     0.153527     2.322715  \n",
       "3                     0.367007     2.276716  \n",
       "4                     0.382612     2.430182  "
      ]
     },
     "execution_count": 25,
     "metadata": {},
     "output_type": "execute_result"
    }
   ],
   "source": [
    "df3_new.head()"
   ]
  },
  {
   "cell_type": "code",
   "execution_count": 26,
   "id": "9de84c51",
   "metadata": {},
   "outputs": [],
   "source": [
    "#makin order of columns the same\n",
    "#df3_new=df3_new[new_columns_17]"
   ]
  },
  {
   "cell_type": "code",
   "execution_count": 27,
   "id": "b0db459a",
   "metadata": {},
   "outputs": [],
   "source": [
    "#df3_new.head(2)"
   ]
  },
  {
   "cell_type": "code",
   "execution_count": 28,
   "id": "d6bc2142",
   "metadata": {},
   "outputs": [],
   "source": [
    "#I will rename and drop columns for df4 and df5\n",
    "columns_4=['Country or region', 'Score', 'GDP per capita',\n",
    "       'Social support', 'Healthy life expectancy',\n",
    "       'Freedom to make life choices', 'Generosity',\n",
    "       'Perceptions of corruption','residual']\n",
    "df4_new=df4.drop(['Overall rank'],axis=1)\n",
    "new_columns_18=['country','happiness score','GDP_18','family/social_support_18','life_expectancy_18','freedom_to_make_choices_18','perception_of_corruption_18','generosity_18','residual_18']\n",
    "df4_new.rename(columns=dict(zip(columns_4,new_columns_18)),inplace=True)"
   ]
  },
  {
   "cell_type": "code",
   "execution_count": 29,
   "id": "382afabb",
   "metadata": {},
   "outputs": [
    {
     "data": {
      "text/html": [
       "<div>\n",
       "<style scoped>\n",
       "    .dataframe tbody tr th:only-of-type {\n",
       "        vertical-align: middle;\n",
       "    }\n",
       "\n",
       "    .dataframe tbody tr th {\n",
       "        vertical-align: top;\n",
       "    }\n",
       "\n",
       "    .dataframe thead th {\n",
       "        text-align: right;\n",
       "    }\n",
       "</style>\n",
       "<table border=\"1\" class=\"dataframe\">\n",
       "  <thead>\n",
       "    <tr style=\"text-align: right;\">\n",
       "      <th></th>\n",
       "      <th>country</th>\n",
       "      <th>happiness score</th>\n",
       "      <th>GDP_18</th>\n",
       "      <th>family/social_support_18</th>\n",
       "      <th>life_expectancy_18</th>\n",
       "      <th>freedom_to_make_choices_18</th>\n",
       "      <th>perception_of_corruption_18</th>\n",
       "      <th>generosity_18</th>\n",
       "      <th>residual_18</th>\n",
       "    </tr>\n",
       "  </thead>\n",
       "  <tbody>\n",
       "    <tr>\n",
       "      <th>0</th>\n",
       "      <td>Finland</td>\n",
       "      <td>7.632</td>\n",
       "      <td>1.305</td>\n",
       "      <td>1.592</td>\n",
       "      <td>0.874</td>\n",
       "      <td>0.681</td>\n",
       "      <td>0.202</td>\n",
       "      <td>0.393</td>\n",
       "      <td>2.585</td>\n",
       "    </tr>\n",
       "    <tr>\n",
       "      <th>1</th>\n",
       "      <td>Norway</td>\n",
       "      <td>7.594</td>\n",
       "      <td>1.456</td>\n",
       "      <td>1.582</td>\n",
       "      <td>0.861</td>\n",
       "      <td>0.686</td>\n",
       "      <td>0.286</td>\n",
       "      <td>0.340</td>\n",
       "      <td>2.383</td>\n",
       "    </tr>\n",
       "    <tr>\n",
       "      <th>2</th>\n",
       "      <td>Denmark</td>\n",
       "      <td>7.555</td>\n",
       "      <td>1.351</td>\n",
       "      <td>1.590</td>\n",
       "      <td>0.868</td>\n",
       "      <td>0.683</td>\n",
       "      <td>0.284</td>\n",
       "      <td>0.408</td>\n",
       "      <td>2.371</td>\n",
       "    </tr>\n",
       "    <tr>\n",
       "      <th>3</th>\n",
       "      <td>Iceland</td>\n",
       "      <td>7.495</td>\n",
       "      <td>1.343</td>\n",
       "      <td>1.644</td>\n",
       "      <td>0.914</td>\n",
       "      <td>0.677</td>\n",
       "      <td>0.353</td>\n",
       "      <td>0.138</td>\n",
       "      <td>2.426</td>\n",
       "    </tr>\n",
       "    <tr>\n",
       "      <th>4</th>\n",
       "      <td>Switzerland</td>\n",
       "      <td>7.487</td>\n",
       "      <td>1.420</td>\n",
       "      <td>1.549</td>\n",
       "      <td>0.927</td>\n",
       "      <td>0.660</td>\n",
       "      <td>0.256</td>\n",
       "      <td>0.357</td>\n",
       "      <td>2.318</td>\n",
       "    </tr>\n",
       "  </tbody>\n",
       "</table>\n",
       "</div>"
      ],
      "text/plain": [
       "       country  happiness score  GDP_18  family/social_support_18  \\\n",
       "0      Finland            7.632   1.305                     1.592   \n",
       "1       Norway            7.594   1.456                     1.582   \n",
       "2      Denmark            7.555   1.351                     1.590   \n",
       "3      Iceland            7.495   1.343                     1.644   \n",
       "4  Switzerland            7.487   1.420                     1.549   \n",
       "\n",
       "   life_expectancy_18  freedom_to_make_choices_18  \\\n",
       "0               0.874                       0.681   \n",
       "1               0.861                       0.686   \n",
       "2               0.868                       0.683   \n",
       "3               0.914                       0.677   \n",
       "4               0.927                       0.660   \n",
       "\n",
       "   perception_of_corruption_18  generosity_18  residual_18  \n",
       "0                        0.202          0.393        2.585  \n",
       "1                        0.286          0.340        2.383  \n",
       "2                        0.284          0.408        2.371  \n",
       "3                        0.353          0.138        2.426  \n",
       "4                        0.256          0.357        2.318  "
      ]
     },
     "execution_count": 29,
     "metadata": {},
     "output_type": "execute_result"
    }
   ],
   "source": [
    "df4_new.head()"
   ]
  },
  {
   "cell_type": "code",
   "execution_count": 30,
   "id": "d0171361",
   "metadata": {},
   "outputs": [],
   "source": [
    "columns_5=['Country or region', 'Score', 'GDP per capita',\n",
    "       'Social support', 'Healthy life expectancy',\n",
    "       'Freedom to make life choices', 'Generosity',\n",
    "       'Perceptions of corruption','residual']\n",
    "df5_new=df5.drop([  'Overall rank' ],axis=1)\n",
    "new_columns_19=['country','happiness score','GDP_19','family/social_support_19','life_expectancy_19','freedom_to_make_choices_19','perception_of_corruption_19','generosity_19','residual_19']\n",
    "df5_new.rename(columns=dict(zip(columns_5,new_columns_19)),inplace=True)\n",
    "\n"
   ]
  },
  {
   "cell_type": "code",
   "execution_count": 31,
   "id": "e731019a",
   "metadata": {},
   "outputs": [
    {
     "data": {
      "text/html": [
       "<div>\n",
       "<style scoped>\n",
       "    .dataframe tbody tr th:only-of-type {\n",
       "        vertical-align: middle;\n",
       "    }\n",
       "\n",
       "    .dataframe tbody tr th {\n",
       "        vertical-align: top;\n",
       "    }\n",
       "\n",
       "    .dataframe thead th {\n",
       "        text-align: right;\n",
       "    }\n",
       "</style>\n",
       "<table border=\"1\" class=\"dataframe\">\n",
       "  <thead>\n",
       "    <tr style=\"text-align: right;\">\n",
       "      <th></th>\n",
       "      <th>country</th>\n",
       "      <th>happiness score</th>\n",
       "      <th>GDP_19</th>\n",
       "      <th>family/social_support_19</th>\n",
       "      <th>life_expectancy_19</th>\n",
       "      <th>freedom_to_make_choices_19</th>\n",
       "      <th>perception_of_corruption_19</th>\n",
       "      <th>generosity_19</th>\n",
       "      <th>residual_19</th>\n",
       "    </tr>\n",
       "  </thead>\n",
       "  <tbody>\n",
       "    <tr>\n",
       "      <th>0</th>\n",
       "      <td>Finland</td>\n",
       "      <td>7.769</td>\n",
       "      <td>1.340</td>\n",
       "      <td>1.587</td>\n",
       "      <td>0.986</td>\n",
       "      <td>0.596</td>\n",
       "      <td>0.153</td>\n",
       "      <td>0.393</td>\n",
       "      <td>2.714</td>\n",
       "    </tr>\n",
       "    <tr>\n",
       "      <th>1</th>\n",
       "      <td>Denmark</td>\n",
       "      <td>7.600</td>\n",
       "      <td>1.383</td>\n",
       "      <td>1.573</td>\n",
       "      <td>0.996</td>\n",
       "      <td>0.592</td>\n",
       "      <td>0.252</td>\n",
       "      <td>0.410</td>\n",
       "      <td>2.394</td>\n",
       "    </tr>\n",
       "  </tbody>\n",
       "</table>\n",
       "</div>"
      ],
      "text/plain": [
       "   country  happiness score  GDP_19  family/social_support_19  \\\n",
       "0  Finland            7.769   1.340                     1.587   \n",
       "1  Denmark            7.600   1.383                     1.573   \n",
       "\n",
       "   life_expectancy_19  freedom_to_make_choices_19  \\\n",
       "0               0.986                       0.596   \n",
       "1               0.996                       0.592   \n",
       "\n",
       "   perception_of_corruption_19  generosity_19  residual_19  \n",
       "0                        0.153          0.393        2.714  \n",
       "1                        0.252          0.410        2.394  "
      ]
     },
     "execution_count": 31,
     "metadata": {},
     "output_type": "execute_result"
    }
   ],
   "source": [
    "df5_new.head(2)"
   ]
  },
  {
   "cell_type": "markdown",
   "id": "c9000676",
   "metadata": {},
   "source": [
    "Now we have same columns. Let's check for null data and data types."
   ]
  },
  {
   "cell_type": "code",
   "execution_count": 32,
   "id": "9c523bc3",
   "metadata": {},
   "outputs": [
    {
     "name": "stdout",
     "output_type": "stream",
     "text": [
      "<class 'pandas.core.frame.DataFrame'>\n",
      "RangeIndex: 158 entries, 0 to 157\n",
      "Data columns (total 10 columns):\n",
      " #   Column                       Non-Null Count  Dtype  \n",
      "---  ------                       --------------  -----  \n",
      " 0   country                      158 non-null    object \n",
      " 1   region                       158 non-null    object \n",
      " 2   happiness score              158 non-null    float64\n",
      " 3   GDP_15                       158 non-null    float64\n",
      " 4   family/social_support_15     158 non-null    float64\n",
      " 5   life_expectancy_15           158 non-null    float64\n",
      " 6   freedom_to_make_choices_15   158 non-null    float64\n",
      " 7   perception_of_corruption_15  158 non-null    float64\n",
      " 8   generosity_15                158 non-null    float64\n",
      " 9   residual_15                  158 non-null    float64\n",
      "dtypes: float64(8), object(2)\n",
      "memory usage: 12.5+ KB\n",
      "<class 'pandas.core.frame.DataFrame'>\n",
      "RangeIndex: 157 entries, 0 to 156\n",
      "Data columns (total 10 columns):\n",
      " #   Column                       Non-Null Count  Dtype  \n",
      "---  ------                       --------------  -----  \n",
      " 0   country                      157 non-null    object \n",
      " 1   region                       157 non-null    object \n",
      " 2   happiness score              157 non-null    float64\n",
      " 3   GDP_16                       157 non-null    float64\n",
      " 4   family/social_support_16     157 non-null    float64\n",
      " 5   life_expectancy_16           157 non-null    float64\n",
      " 6   freedom_to_make_choices_16   157 non-null    float64\n",
      " 7   perception_of_corruption_16  157 non-null    float64\n",
      " 8   generosity_16                157 non-null    float64\n",
      " 9   residual_16                  157 non-null    float64\n",
      "dtypes: float64(8), object(2)\n",
      "memory usage: 12.4+ KB\n",
      "<class 'pandas.core.frame.DataFrame'>\n",
      "RangeIndex: 155 entries, 0 to 154\n",
      "Data columns (total 9 columns):\n",
      " #   Column                       Non-Null Count  Dtype  \n",
      "---  ------                       --------------  -----  \n",
      " 0   country                      155 non-null    object \n",
      " 1   happiness score              155 non-null    float64\n",
      " 2   GDP_17                       155 non-null    float64\n",
      " 3   family/social_support_17     155 non-null    float64\n",
      " 4   life_expectancy_17           155 non-null    float64\n",
      " 5   freedom_to_make_choices_17   155 non-null    float64\n",
      " 6   generosity_17                155 non-null    float64\n",
      " 7   perception_of_corruption_17  155 non-null    float64\n",
      " 8   residual_17                  155 non-null    float64\n",
      "dtypes: float64(8), object(1)\n",
      "memory usage: 11.0+ KB\n",
      "<class 'pandas.core.frame.DataFrame'>\n",
      "RangeIndex: 156 entries, 0 to 155\n",
      "Data columns (total 9 columns):\n",
      " #   Column                       Non-Null Count  Dtype  \n",
      "---  ------                       --------------  -----  \n",
      " 0   country                      156 non-null    object \n",
      " 1   happiness score              156 non-null    float64\n",
      " 2   GDP_18                       156 non-null    float64\n",
      " 3   family/social_support_18     156 non-null    float64\n",
      " 4   life_expectancy_18           156 non-null    float64\n",
      " 5   freedom_to_make_choices_18   156 non-null    float64\n",
      " 6   perception_of_corruption_18  156 non-null    float64\n",
      " 7   generosity_18                155 non-null    float64\n",
      " 8   residual_18                  155 non-null    float64\n",
      "dtypes: float64(8), object(1)\n",
      "memory usage: 11.1+ KB\n",
      "<class 'pandas.core.frame.DataFrame'>\n",
      "RangeIndex: 156 entries, 0 to 155\n",
      "Data columns (total 9 columns):\n",
      " #   Column                       Non-Null Count  Dtype  \n",
      "---  ------                       --------------  -----  \n",
      " 0   country                      156 non-null    object \n",
      " 1   happiness score              156 non-null    float64\n",
      " 2   GDP_19                       156 non-null    float64\n",
      " 3   family/social_support_19     156 non-null    float64\n",
      " 4   life_expectancy_19           156 non-null    float64\n",
      " 5   freedom_to_make_choices_19   156 non-null    float64\n",
      " 6   perception_of_corruption_19  156 non-null    float64\n",
      " 7   generosity_19                156 non-null    float64\n",
      " 8   residual_19                  156 non-null    float64\n",
      "dtypes: float64(8), object(1)\n",
      "memory usage: 11.1+ KB\n",
      "None \n",
      " None \\n None \\n None \\n None\n"
     ]
    }
   ],
   "source": [
    "print(df1_new.info(),'\\n',df2_new.info(),'\\\\n',df3_new.info(),\n",
    "      '\\\\n',df4_new.info(),'\\\\n',df5_new.info())"
   ]
  },
  {
   "cell_type": "markdown",
   "id": "1d7b14cc",
   "metadata": {},
   "source": [
    "There are no null data and all numbers are floats. \n",
    "\n",
    "But the df3_new has 155 countires and the df1_new has\n",
    "158 countries. The next step is to reduce the number of countries \n",
    "to the highest common number of countries for all datasets. I will start by comparing df3_new( because it has the smallest number of data )with the  df1_new( largest number of data.)"
   ]
  },
  {
   "cell_type": "code",
   "execution_count": 33,
   "id": "a2c3b984",
   "metadata": {},
   "outputs": [
    {
     "name": "stdout",
     "output_type": "stream",
     "text": [
      "Oman False\n",
      "Taiwan False\n",
      "Suriname False\n",
      "Hong Kong False\n",
      "Somaliland region False\n",
      "Laos False\n",
      "Swaziland False\n",
      "Djibouti False\n",
      "Comoros False\n",
      "\n",
      "9 countries are not in df3_new\n"
     ]
    }
   ],
   "source": [
    "n=0\n",
    "for country in df1_new['country'].unique() :\n",
    "    if country not in df3_new['country'].unique():\n",
    "        n+=1\n",
    "        print( country,False)\n",
    "print(f'\\n{n} countries are not in df3_new')"
   ]
  },
  {
   "cell_type": "code",
   "execution_count": 34,
   "id": "41720df0",
   "metadata": {},
   "outputs": [
    {
     "name": "stdout",
     "output_type": "stream",
     "text": [
      "Taiwan Province of China False\n",
      "Belize False\n",
      "Hong Kong S.A.R., China False\n",
      "Somalia False\n",
      "Namibia False\n",
      "South Sudan False\n",
      "\n",
      "6 countries are not in df1_new\n"
     ]
    }
   ],
   "source": [
    "#now the wice versa\n",
    "n=0\n",
    "for country in df3_new['country'].unique() :\n",
    "    if country not in df1_new['country'].unique():\n",
    "        n+=1\n",
    "        print( country,False)\n",
    "print(f'\\n{n} countries are not in df1_new')"
   ]
  },
  {
   "cell_type": "markdown",
   "id": "38cb6647",
   "metadata": {},
   "source": [
    "From here I can see that some countries have similar names. I will drop only those countries that are actusally different countries and I will rename ones that have simlar names."
   ]
  },
  {
   "cell_type": "code",
   "execution_count": 35,
   "id": "0065e30c",
   "metadata": {},
   "outputs": [],
   "source": [
    "#dropping countries that are in df3_new but not in the df1_new\n",
    "to_drop=['Oman','Suriname','Laos','Swaziland','Djibouti','Comoros','Somaliland region']\n",
    "for name in to_drop:\n",
    "    df1_new.drop( df1_new[ df1_new['country'] == name ].index , inplace=True)"
   ]
  },
  {
   "cell_type": "code",
   "execution_count": 36,
   "id": "018b3a59",
   "metadata": {},
   "outputs": [
    {
     "data": {
      "text/plain": [
       "151"
      ]
     },
     "execution_count": 36,
     "metadata": {},
     "output_type": "execute_result"
    }
   ],
   "source": [
    "len(df1_new)"
   ]
  },
  {
   "cell_type": "code",
   "execution_count": 37,
   "id": "3fd343dc",
   "metadata": {},
   "outputs": [],
   "source": [
    "#dropping countries that are in df1_new but not in the df3_new\n",
    "to_drop1=['Belize','Namibia','South Sudan','Somalia']\n",
    "for name in to_drop1:\n",
    "    df3_new.drop( df3_new[ df3_new['country'] == name ].index , inplace=True)"
   ]
  },
  {
   "cell_type": "code",
   "execution_count": 38,
   "id": "2ac1c3b2",
   "metadata": {},
   "outputs": [
    {
     "data": {
      "text/plain": [
       "151"
      ]
     },
     "execution_count": 38,
     "metadata": {},
     "output_type": "execute_result"
    }
   ],
   "source": [
    "len(df3_new)"
   ]
  },
  {
   "cell_type": "code",
   "execution_count": 39,
   "id": "a7dcced9",
   "metadata": {},
   "outputs": [],
   "source": [
    "df3_new=df3_new.replace(['Taiwan Province of China','Hong Kong S.A.R., China'],['Taiwan','Hong Kong'])"
   ]
  },
  {
   "cell_type": "markdown",
   "id": "ea45a947",
   "metadata": {},
   "source": [
    "I will now compare df1_comp with the rest of df and I hope that I will not have to delete many more  coumns from df1_comp"
   ]
  },
  {
   "cell_type": "code",
   "execution_count": 40,
   "id": "4cafda3a",
   "metadata": {},
   "outputs": [
    {
     "name": "stdout",
     "output_type": "stream",
     "text": [
      "Mozambique False\n",
      "Lesotho False\n",
      "Central African Republic False\n",
      "\n",
      "3 countries are not in df2_new\n"
     ]
    }
   ],
   "source": [
    "n=0\n",
    "for country in df1_new['country'].unique() :\n",
    "    if country not in df2_new['country'].unique():\n",
    "        n+=1\n",
    "        print( country,False)\n",
    "print(f'\\n{n} countries are not in df2_new')"
   ]
  },
  {
   "cell_type": "code",
   "execution_count": 41,
   "id": "275aed4a",
   "metadata": {},
   "outputs": [
    {
     "name": "stdout",
     "output_type": "stream",
     "text": [
      "Puerto Rico False\n",
      "Suriname False\n",
      "Belize False\n",
      "Somalia False\n",
      "Somaliland Region False\n",
      "Laos False\n",
      "Namibia False\n",
      "Comoros False\n",
      "South Sudan False\n",
      "\n",
      "9 countries are not in df1_new\n"
     ]
    }
   ],
   "source": [
    "n=0\n",
    "for country in df2_new['country'].unique() :\n",
    "    if country not in df1_new['country'].unique():\n",
    "        n+=1\n",
    "        print( country,False)\n",
    "print(f'\\n{n} countries are not in df1_new')"
   ]
  },
  {
   "cell_type": "markdown",
   "id": "ef2489fa",
   "metadata": {},
   "source": [
    "From above I can see that Iwill need to delete 3 more countries from df1_comp and df3_comp and 9 countries from df2_comp"
   ]
  },
  {
   "cell_type": "code",
   "execution_count": 42,
   "id": "0b77c6ce",
   "metadata": {},
   "outputs": [],
   "source": [
    "#dropping countries that are in df2_new but not in the df1_new (and therefore not in df3_new)\n",
    "to_drop2=['Mozambique','Lesotho','Central African Republic' ]\n",
    "for name in to_drop2:\n",
    "    df1_new.drop( df1_new[ df1_new['country'] == name ].index , inplace=True)\n",
    "    df3_new.drop( df3_new[ df3_new['country'] == name ].index , inplace=True)"
   ]
  },
  {
   "cell_type": "code",
   "execution_count": 43,
   "id": "bb17fe13",
   "metadata": {},
   "outputs": [],
   "source": [
    "#dropping countries that are in df1_new but not in the df2_new \n",
    "to_drop3=['Puerto Rico', 'Suriname', 'Belize','Somalia', 'Laos','Namibia', 'Comoros', 'South Sudan','Somaliland Region']\n",
    "for name in to_drop3:\n",
    "    df2_new.drop( df2_new[ df2_new['country'] == name ].index , inplace=True)"
   ]
  },
  {
   "cell_type": "code",
   "execution_count": 44,
   "id": "a5f01a00",
   "metadata": {},
   "outputs": [
    {
     "name": "stdout",
     "output_type": "stream",
     "text": [
      "148 148 148\n"
     ]
    }
   ],
   "source": [
    "print(len(df1_new),len(df2_new),len(df3_new))"
   ]
  },
  {
   "cell_type": "code",
   "execution_count": 45,
   "id": "5a5114fd",
   "metadata": {},
   "outputs": [
    {
     "name": "stdout",
     "output_type": "stream",
     "text": [
      "Trinidad and Tobago False\n",
      "North Cyprus False\n",
      "\n",
      "2 countries are not in df4_new\n"
     ]
    }
   ],
   "source": [
    "n=0\n",
    "for country in df1_new['country'].unique() :\n",
    "    if country not in df4_new['country'].unique():\n",
    "        n+=1\n",
    "        print( country,False)\n",
    "print(f'\\n{n} countries are not in df4_new')"
   ]
  },
  {
   "cell_type": "code",
   "execution_count": 46,
   "id": "32737026",
   "metadata": {},
   "outputs": [
    {
     "name": "stdout",
     "output_type": "stream",
     "text": [
      "Trinidad & Tobago False\n",
      "Belize False\n",
      "Northern Cyprus False\n",
      "Somalia False\n",
      "Laos False\n",
      "Namibia False\n",
      "Mozambique False\n",
      "Lesotho False\n",
      "South Sudan False\n",
      "Central African Republic False\n",
      "\n",
      "10 countries are not in df1_new\n"
     ]
    }
   ],
   "source": [
    "n=0\n",
    "for country in df4_new['country'].unique() :\n",
    "    if country not in df1_new['country'].unique():\n",
    "        n+=1\n",
    "        print( country,False)\n",
    "print(f'\\n{n} countries are not in df1_new')"
   ]
  },
  {
   "cell_type": "markdown",
   "id": "40936ca9",
   "metadata": {},
   "source": [
    "So we need to rename 2 countries in df4_comp as Trinidad and Tobago and NOrth Cyprus have been used in df1, df2 and df3 . We also need to delete 8 countries from df4_comp"
   ]
  },
  {
   "cell_type": "code",
   "execution_count": 47,
   "id": "feef35a0",
   "metadata": {},
   "outputs": [],
   "source": [
    "#renaming\n",
    "df4_new=df4_new.replace(['Trinidad & Tobago','Northern Cyprus'],\n",
    "                  ['Trinidad and Tobago','North Cyprus'])"
   ]
  },
  {
   "cell_type": "code",
   "execution_count": 48,
   "id": "3debe1fe",
   "metadata": {},
   "outputs": [],
   "source": [
    "#dropping countries that are in df4_new but not in the df1_new\n",
    "to_drop4=['Belize','Somalia','Laos', 'Namibia', 'South Sudan','Central African Republic',\n",
    "          'Mozambique','Lesotho']\n",
    "for name in to_drop4:\n",
    "    df4_new.drop( df4_new[ df4_new['country'] == name ].index , inplace=True)"
   ]
  },
  {
   "cell_type": "code",
   "execution_count": 49,
   "id": "3c5424d6",
   "metadata": {},
   "outputs": [
    {
     "data": {
      "text/plain": [
       "148"
      ]
     },
     "execution_count": 49,
     "metadata": {},
     "output_type": "execute_result"
    }
   ],
   "source": [
    "len(df4_new)"
   ]
  },
  {
   "cell_type": "code",
   "execution_count": 50,
   "id": "a7774cd7",
   "metadata": {},
   "outputs": [
    {
     "name": "stdout",
     "output_type": "stream",
     "text": [
      "Trinidad and Tobago False\n",
      "North Cyprus False\n",
      "Macedonia False\n",
      "Sudan False\n",
      "Angola False\n",
      "\n",
      "5 countries are not in df5_new\n"
     ]
    }
   ],
   "source": [
    "n=0\n",
    "for country in df1_new['country'].unique() :\n",
    "    if country not in df5_new['country'].unique():\n",
    "        n+=1\n",
    "        print( country,False)\n",
    "print(f'\\n{n} countries are not in df5_new')"
   ]
  },
  {
   "cell_type": "code",
   "execution_count": 51,
   "id": "5f61abe5",
   "metadata": {},
   "outputs": [
    {
     "name": "stdout",
     "output_type": "stream",
     "text": [
      "Trinidad & Tobago False\n",
      "Northern Cyprus False\n",
      "North Macedonia False\n",
      "Laos False\n",
      "Somalia False\n",
      "Namibia False\n",
      "Gambia False\n",
      "Mozambique False\n",
      "Swaziland False\n",
      "Comoros False\n",
      "Lesotho False\n",
      "Central African Republic False\n",
      "South Sudan False\n",
      "\n",
      "13 countries are not in df1_new\n"
     ]
    }
   ],
   "source": [
    "n=0\n",
    "for country in df5_new['country'].unique() :\n",
    "    if country not in df1_new['country'].unique():\n",
    "        n+=1\n",
    "        print( country,False)\n",
    "print(f'\\n{n} countries are not in df1_new')"
   ]
  },
  {
   "cell_type": "code",
   "execution_count": 52,
   "id": "162d48ea",
   "metadata": {},
   "outputs": [],
   "source": [
    "#renaming countries\n",
    "df5_new=df5_new.replace(['Trinidad & Tobago','Northern Cyprus','North Macedonia'],\n",
    "                  ['Trinidad and Tobago','North Cyprus','Macedonia'])"
   ]
  },
  {
   "cell_type": "code",
   "execution_count": 53,
   "id": "86655428",
   "metadata": {},
   "outputs": [],
   "source": [
    "#dropping countries that are in df1_new but not in the df5_new\n",
    "to_drop5=['Laos','Somalia','Namibia','Gambia','Swaziland','Comoros', 'Central African Republic','South Sudan','Mozambique','Lesotho']\n",
    "for name in to_drop5:\n",
    "    df5_new.drop( df5_new[ df5_new['country'] == name ].index , inplace=True)"
   ]
  },
  {
   "cell_type": "code",
   "execution_count": 54,
   "id": "07f71355",
   "metadata": {},
   "outputs": [],
   "source": [
    "#droppiing countries that are in df5_nwe but not in the other datasets\n",
    "to_drop6=['Sudan','Angola']\n",
    "data_frames=[df1_new,df2_new,df3_new,df4_new]\n",
    "for name in to_drop6:\n",
    "    for frame in data_frames:\n",
    "        frame.drop( frame[ frame['country'] == name ].index , inplace=True)\n"
   ]
  },
  {
   "cell_type": "code",
   "execution_count": 55,
   "id": "da2607b8",
   "metadata": {},
   "outputs": [
    {
     "name": "stdout",
     "output_type": "stream",
     "text": [
      "146 146 146 146 146\n"
     ]
    }
   ],
   "source": [
    "print(len(df1_new),len(df2_new),len(df3_new),len(df4_new),len(df5_new))"
   ]
  },
  {
   "cell_type": "markdown",
   "id": "e917c0eb",
   "metadata": {},
   "source": [
    "12 countries have been lost in data cleaning. It is important to mention that those countries are still in the original dataframes and they will be displayed on geomaps. But for the sake of comparison between years it is appropriate to have same countries.  \n",
    "Now I will sort data by country to check once more if all dataframes have the same countries "
   ]
  },
  {
   "cell_type": "code",
   "execution_count": 56,
   "id": "c5de8d71",
   "metadata": {},
   "outputs": [],
   "source": [
    "df1_new=df1_new.sort_values('country')\n",
    "df2_new=df2_new.sort_values('country')\n",
    "df3_new=df3_new.sort_values('country')\n",
    "df4_new=df4_new.sort_values('country')\n",
    "df5_new=df5_new.sort_values('country')"
   ]
  },
  {
   "cell_type": "code",
   "execution_count": 57,
   "id": "c4ad1f9e",
   "metadata": {},
   "outputs": [
    {
     "data": {
      "text/plain": [
       "array([ True,  True,  True,  True,  True,  True,  True,  True,  True,\n",
       "        True,  True,  True,  True,  True,  True,  True,  True,  True,\n",
       "        True,  True,  True,  True,  True,  True,  True,  True,  True,\n",
       "        True,  True,  True,  True,  True,  True,  True,  True,  True,\n",
       "        True,  True,  True,  True,  True,  True,  True,  True,  True,\n",
       "        True,  True,  True,  True,  True,  True,  True,  True,  True,\n",
       "        True,  True,  True,  True,  True,  True,  True,  True,  True,\n",
       "        True,  True,  True,  True,  True,  True,  True,  True,  True,\n",
       "        True,  True,  True,  True,  True,  True,  True,  True,  True,\n",
       "        True,  True,  True,  True,  True,  True,  True,  True,  True,\n",
       "        True,  True,  True,  True,  True,  True,  True,  True,  True,\n",
       "        True,  True,  True,  True,  True,  True,  True,  True,  True,\n",
       "        True,  True,  True,  True,  True,  True,  True,  True,  True,\n",
       "        True,  True,  True,  True,  True,  True,  True,  True,  True,\n",
       "        True,  True,  True,  True,  True,  True,  True,  True,  True,\n",
       "        True,  True,  True,  True,  True,  True,  True,  True,  True,\n",
       "        True,  True])"
      ]
     },
     "execution_count": 57,
     "metadata": {},
     "output_type": "execute_result"
    }
   ],
   "source": [
    "df1_new['country'].unique()==df2_new['country'].unique()"
   ]
  },
  {
   "cell_type": "code",
   "execution_count": 58,
   "id": "29da644e",
   "metadata": {},
   "outputs": [
    {
     "data": {
      "text/plain": [
       "array([ True,  True,  True,  True,  True,  True,  True,  True,  True,\n",
       "        True,  True,  True,  True,  True,  True,  True,  True,  True,\n",
       "        True,  True,  True,  True,  True,  True,  True,  True,  True,\n",
       "        True,  True,  True,  True,  True,  True,  True,  True,  True,\n",
       "        True,  True,  True,  True,  True,  True,  True,  True,  True,\n",
       "        True,  True,  True,  True,  True,  True,  True,  True,  True,\n",
       "        True,  True,  True,  True,  True,  True,  True,  True,  True,\n",
       "        True,  True,  True,  True,  True,  True,  True,  True,  True,\n",
       "        True,  True,  True,  True,  True,  True,  True,  True,  True,\n",
       "        True,  True,  True,  True,  True,  True,  True,  True,  True,\n",
       "        True,  True,  True,  True,  True,  True,  True,  True,  True,\n",
       "        True,  True,  True,  True,  True,  True,  True,  True,  True,\n",
       "        True,  True,  True,  True,  True,  True,  True,  True,  True,\n",
       "        True,  True,  True,  True,  True,  True,  True,  True,  True,\n",
       "        True,  True,  True,  True,  True,  True,  True,  True,  True,\n",
       "        True,  True,  True,  True,  True,  True,  True,  True,  True,\n",
       "        True,  True])"
      ]
     },
     "execution_count": 58,
     "metadata": {},
     "output_type": "execute_result"
    }
   ],
   "source": [
    "df1_new['country'].unique()==df3_new['country'].unique()"
   ]
  },
  {
   "cell_type": "code",
   "execution_count": 59,
   "id": "6927df94",
   "metadata": {},
   "outputs": [
    {
     "data": {
      "text/plain": [
       "array([ True,  True,  True,  True,  True,  True,  True,  True,  True,\n",
       "        True,  True,  True,  True,  True,  True,  True,  True,  True,\n",
       "        True,  True,  True,  True,  True,  True,  True,  True,  True,\n",
       "        True,  True,  True,  True,  True,  True,  True,  True,  True,\n",
       "        True,  True,  True,  True,  True,  True,  True,  True,  True,\n",
       "        True,  True,  True,  True,  True,  True,  True,  True,  True,\n",
       "        True,  True,  True,  True,  True,  True,  True,  True,  True,\n",
       "        True,  True,  True,  True,  True,  True,  True,  True,  True,\n",
       "        True,  True,  True,  True,  True,  True,  True,  True,  True,\n",
       "        True,  True,  True,  True,  True,  True,  True,  True,  True,\n",
       "        True,  True,  True,  True,  True,  True,  True,  True,  True,\n",
       "        True,  True,  True,  True,  True,  True,  True,  True,  True,\n",
       "        True,  True,  True,  True,  True,  True,  True,  True,  True,\n",
       "        True,  True,  True,  True,  True,  True,  True,  True,  True,\n",
       "        True,  True,  True,  True,  True,  True,  True,  True,  True,\n",
       "        True,  True,  True,  True,  True,  True,  True,  True,  True,\n",
       "        True,  True])"
      ]
     },
     "execution_count": 59,
     "metadata": {},
     "output_type": "execute_result"
    }
   ],
   "source": [
    "df1_new['country'].unique()==df4_new['country'].unique()"
   ]
  },
  {
   "cell_type": "code",
   "execution_count": 60,
   "id": "3b507e11",
   "metadata": {},
   "outputs": [
    {
     "data": {
      "text/plain": [
       "array([ True,  True,  True,  True,  True,  True,  True,  True,  True,\n",
       "        True,  True,  True,  True,  True,  True,  True,  True,  True,\n",
       "        True,  True,  True,  True,  True,  True,  True,  True,  True,\n",
       "        True,  True,  True,  True,  True,  True,  True,  True,  True,\n",
       "        True,  True,  True,  True,  True,  True,  True,  True,  True,\n",
       "        True,  True,  True,  True,  True,  True,  True,  True,  True,\n",
       "        True,  True,  True,  True,  True,  True,  True,  True,  True,\n",
       "        True,  True,  True,  True,  True,  True,  True,  True,  True,\n",
       "        True,  True,  True,  True,  True,  True,  True,  True,  True,\n",
       "        True,  True,  True,  True,  True,  True,  True,  True,  True,\n",
       "        True,  True,  True,  True,  True,  True,  True,  True,  True,\n",
       "        True,  True,  True,  True,  True,  True,  True,  True,  True,\n",
       "        True,  True,  True,  True,  True,  True,  True,  True,  True,\n",
       "        True,  True,  True,  True,  True,  True,  True,  True,  True,\n",
       "        True,  True,  True,  True,  True,  True,  True,  True,  True,\n",
       "        True,  True,  True,  True,  True,  True,  True,  True,  True,\n",
       "        True,  True])"
      ]
     },
     "execution_count": 60,
     "metadata": {},
     "output_type": "execute_result"
    }
   ],
   "source": [
    "df1_new['country'].unique()==df5_new['country'].unique()"
   ]
  },
  {
   "cell_type": "markdown",
   "id": "a049fc70",
   "metadata": {},
   "source": [
    "So, we can now merge those dataframes if needed. But first let me reset the index"
   ]
  },
  {
   "cell_type": "code",
   "execution_count": 61,
   "id": "474eda8c",
   "metadata": {},
   "outputs": [],
   "source": [
    "frames=[df1_new,df2_new,df3_new,df4_new,df5_new]\n",
    "for frame in frames:\n",
    "    frame=frame.reset_index(drop=True,inplace=True)\n",
    "    "
   ]
  },
  {
   "cell_type": "code",
   "execution_count": 62,
   "id": "3f082bad",
   "metadata": {},
   "outputs": [
    {
     "data": {
      "text/html": [
       "<div>\n",
       "<style scoped>\n",
       "    .dataframe tbody tr th:only-of-type {\n",
       "        vertical-align: middle;\n",
       "    }\n",
       "\n",
       "    .dataframe tbody tr th {\n",
       "        vertical-align: top;\n",
       "    }\n",
       "\n",
       "    .dataframe thead th {\n",
       "        text-align: right;\n",
       "    }\n",
       "</style>\n",
       "<table border=\"1\" class=\"dataframe\">\n",
       "  <thead>\n",
       "    <tr style=\"text-align: right;\">\n",
       "      <th></th>\n",
       "      <th>country</th>\n",
       "      <th>region</th>\n",
       "      <th>happiness score</th>\n",
       "      <th>GDP_15</th>\n",
       "      <th>family/social_support_15</th>\n",
       "      <th>life_expectancy_15</th>\n",
       "      <th>freedom_to_make_choices_15</th>\n",
       "      <th>perception_of_corruption_15</th>\n",
       "      <th>generosity_15</th>\n",
       "      <th>residual_15</th>\n",
       "    </tr>\n",
       "  </thead>\n",
       "  <tbody>\n",
       "    <tr>\n",
       "      <th>0</th>\n",
       "      <td>Afghanistan</td>\n",
       "      <td>Southern Asia</td>\n",
       "      <td>3.575</td>\n",
       "      <td>0.31982</td>\n",
       "      <td>0.30285</td>\n",
       "      <td>0.30335</td>\n",
       "      <td>0.23414</td>\n",
       "      <td>0.09719</td>\n",
       "      <td>0.36510</td>\n",
       "      <td>1.95210</td>\n",
       "    </tr>\n",
       "    <tr>\n",
       "      <th>1</th>\n",
       "      <td>Albania</td>\n",
       "      <td>Central and Eastern Europe</td>\n",
       "      <td>4.959</td>\n",
       "      <td>0.87867</td>\n",
       "      <td>0.80434</td>\n",
       "      <td>0.81325</td>\n",
       "      <td>0.35733</td>\n",
       "      <td>0.06413</td>\n",
       "      <td>0.14272</td>\n",
       "      <td>1.89894</td>\n",
       "    </tr>\n",
       "    <tr>\n",
       "      <th>2</th>\n",
       "      <td>Algeria</td>\n",
       "      <td>Middle East and Northern Africa</td>\n",
       "      <td>5.605</td>\n",
       "      <td>0.93929</td>\n",
       "      <td>1.07772</td>\n",
       "      <td>0.61766</td>\n",
       "      <td>0.28579</td>\n",
       "      <td>0.17383</td>\n",
       "      <td>0.07822</td>\n",
       "      <td>2.43209</td>\n",
       "    </tr>\n",
       "  </tbody>\n",
       "</table>\n",
       "</div>"
      ],
      "text/plain": [
       "       country                           region  happiness score   GDP_15  \\\n",
       "0  Afghanistan                    Southern Asia            3.575  0.31982   \n",
       "1      Albania       Central and Eastern Europe            4.959  0.87867   \n",
       "2      Algeria  Middle East and Northern Africa            5.605  0.93929   \n",
       "\n",
       "   family/social_support_15  life_expectancy_15  freedom_to_make_choices_15  \\\n",
       "0                   0.30285             0.30335                     0.23414   \n",
       "1                   0.80434             0.81325                     0.35733   \n",
       "2                   1.07772             0.61766                     0.28579   \n",
       "\n",
       "   perception_of_corruption_15  generosity_15  residual_15  \n",
       "0                      0.09719        0.36510      1.95210  \n",
       "1                      0.06413        0.14272      1.89894  \n",
       "2                      0.17383        0.07822      2.43209  "
      ]
     },
     "execution_count": 62,
     "metadata": {},
     "output_type": "execute_result"
    }
   ],
   "source": [
    "df1_new.head(3)"
   ]
  },
  {
   "cell_type": "code",
   "execution_count": null,
   "id": "dfd7188a",
   "metadata": {},
   "outputs": [],
   "source": []
  },
  {
   "cell_type": "markdown",
   "id": "3e912e9d",
   "metadata": {},
   "source": [
    "I will now add region column to df3,df4 and df5. As the order of countries is the same I can simply assign the new column using the df1_new['region]. I will also change the order of columns."
   ]
  },
  {
   "cell_type": "code",
   "execution_count": 63,
   "id": "89660e10",
   "metadata": {},
   "outputs": [],
   "source": [
    "df3_new['region']=df1_new['region']\n",
    "new_col=['country','region','happiness score','GDP_17','family/social_support_17','life_expectancy_17','freedom_to_make_choices_17','perception_of_corruption_17','generosity_17','residual_17']\n",
    "df3_new=df3_new[new_col]"
   ]
  },
  {
   "cell_type": "code",
   "execution_count": 64,
   "id": "2564b6b9",
   "metadata": {},
   "outputs": [
    {
     "data": {
      "text/html": [
       "<div>\n",
       "<style scoped>\n",
       "    .dataframe tbody tr th:only-of-type {\n",
       "        vertical-align: middle;\n",
       "    }\n",
       "\n",
       "    .dataframe tbody tr th {\n",
       "        vertical-align: top;\n",
       "    }\n",
       "\n",
       "    .dataframe thead th {\n",
       "        text-align: right;\n",
       "    }\n",
       "</style>\n",
       "<table border=\"1\" class=\"dataframe\">\n",
       "  <thead>\n",
       "    <tr style=\"text-align: right;\">\n",
       "      <th></th>\n",
       "      <th>country</th>\n",
       "      <th>region</th>\n",
       "      <th>happiness score</th>\n",
       "      <th>GDP_17</th>\n",
       "      <th>family/social_support_17</th>\n",
       "      <th>life_expectancy_17</th>\n",
       "      <th>freedom_to_make_choices_17</th>\n",
       "      <th>perception_of_corruption_17</th>\n",
       "      <th>generosity_17</th>\n",
       "      <th>residual_17</th>\n",
       "    </tr>\n",
       "  </thead>\n",
       "  <tbody>\n",
       "    <tr>\n",
       "      <th>0</th>\n",
       "      <td>Afghanistan</td>\n",
       "      <td>Southern Asia</td>\n",
       "      <td>3.794</td>\n",
       "      <td>0.401477</td>\n",
       "      <td>0.581543</td>\n",
       "      <td>0.180747</td>\n",
       "      <td>0.106180</td>\n",
       "      <td>0.061158</td>\n",
       "      <td>0.311871</td>\n",
       "      <td>2.150801</td>\n",
       "    </tr>\n",
       "    <tr>\n",
       "      <th>1</th>\n",
       "      <td>Albania</td>\n",
       "      <td>Central and Eastern Europe</td>\n",
       "      <td>4.644</td>\n",
       "      <td>0.996193</td>\n",
       "      <td>0.803685</td>\n",
       "      <td>0.731160</td>\n",
       "      <td>0.381499</td>\n",
       "      <td>0.039864</td>\n",
       "      <td>0.201313</td>\n",
       "      <td>1.490442</td>\n",
       "    </tr>\n",
       "  </tbody>\n",
       "</table>\n",
       "</div>"
      ],
      "text/plain": [
       "       country                      region  happiness score    GDP_17  \\\n",
       "0  Afghanistan               Southern Asia            3.794  0.401477   \n",
       "1      Albania  Central and Eastern Europe            4.644  0.996193   \n",
       "\n",
       "   family/social_support_17  life_expectancy_17  freedom_to_make_choices_17  \\\n",
       "0                  0.581543            0.180747                    0.106180   \n",
       "1                  0.803685            0.731160                    0.381499   \n",
       "\n",
       "   perception_of_corruption_17  generosity_17  residual_17  \n",
       "0                     0.061158       0.311871     2.150801  \n",
       "1                     0.039864       0.201313     1.490442  "
      ]
     },
     "execution_count": 64,
     "metadata": {},
     "output_type": "execute_result"
    }
   ],
   "source": [
    "df3_new.head(2)"
   ]
  },
  {
   "cell_type": "markdown",
   "id": "25450091",
   "metadata": {},
   "source": [
    "I will repeat the same for df4_new and df5_new."
   ]
  },
  {
   "cell_type": "code",
   "execution_count": 65,
   "id": "3545cc44",
   "metadata": {},
   "outputs": [],
   "source": [
    "df4_new['region']=df1_new['region']\n",
    "new_col=['country','region','happiness score','GDP_18','family/social_support_18','life_expectancy_18','freedom_to_make_choices_18','perception_of_corruption_18','generosity_18','residual_18']\n",
    "df4_new=df4_new[new_col]"
   ]
  },
  {
   "cell_type": "code",
   "execution_count": 66,
   "id": "464b7810",
   "metadata": {},
   "outputs": [],
   "source": [
    "df5_new['region']=df1_new['region']\n",
    "new_col=['country','region','happiness score','GDP_19','family/social_support_19','life_expectancy_19','freedom_to_make_choices_19','perception_of_corruption_19','generosity_19','residual_19']\n",
    "df5_new=df5_new[new_col]"
   ]
  },
  {
   "cell_type": "code",
   "execution_count": 67,
   "id": "bb1691b9",
   "metadata": {},
   "outputs": [
    {
     "name": "stdout",
     "output_type": "stream",
     "text": [
      "Stored 'df1_new' (DataFrame)\n"
     ]
    }
   ],
   "source": [
    "%store df1_new"
   ]
  },
  {
   "cell_type": "code",
   "execution_count": 68,
   "id": "2ec0500e",
   "metadata": {},
   "outputs": [
    {
     "name": "stdout",
     "output_type": "stream",
     "text": [
      "Stored 'df2_new' (DataFrame)\n"
     ]
    }
   ],
   "source": [
    "%store df2_new"
   ]
  },
  {
   "cell_type": "code",
   "execution_count": 69,
   "id": "6b7969e3",
   "metadata": {},
   "outputs": [
    {
     "name": "stdout",
     "output_type": "stream",
     "text": [
      "Stored 'df3_new' (DataFrame)\n"
     ]
    }
   ],
   "source": [
    "%store df3_new"
   ]
  },
  {
   "cell_type": "code",
   "execution_count": 70,
   "id": "8a4bfeb4",
   "metadata": {},
   "outputs": [
    {
     "name": "stdout",
     "output_type": "stream",
     "text": [
      "Stored 'df4_new' (DataFrame)\n"
     ]
    }
   ],
   "source": [
    "%store df4_new"
   ]
  },
  {
   "cell_type": "code",
   "execution_count": 71,
   "id": "65481acc",
   "metadata": {},
   "outputs": [
    {
     "name": "stdout",
     "output_type": "stream",
     "text": [
      "Stored 'df5_new' (DataFrame)\n"
     ]
    }
   ],
   "source": [
    "%store df5_new"
   ]
  },
  {
   "cell_type": "code",
   "execution_count": null,
   "id": "b1455f6d",
   "metadata": {},
   "outputs": [],
   "source": []
  }
 ],
 "metadata": {
  "kernelspec": {
   "display_name": "Python 3 (ipykernel)",
   "language": "python",
   "name": "python3"
  },
  "language_info": {
   "codemirror_mode": {
    "name": "ipython",
    "version": 3
   },
   "file_extension": ".py",
   "mimetype": "text/x-python",
   "name": "python",
   "nbconvert_exporter": "python",
   "pygments_lexer": "ipython3",
   "version": "3.9.7"
  }
 },
 "nbformat": 4,
 "nbformat_minor": 5
}
